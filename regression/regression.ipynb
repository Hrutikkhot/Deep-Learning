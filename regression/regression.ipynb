{
 "cells": [
  {
   "cell_type": "markdown",
   "metadata": {},
   "source": [
    "## Regression in keras"
   ]
  },
  {
   "cell_type": "code",
   "execution_count": 78,
   "metadata": {},
   "outputs": [],
   "source": [
    "from warnings import filterwarnings\n",
    "filterwarnings('ignore')"
   ]
  },
  {
   "cell_type": "markdown",
   "metadata": {},
   "source": [
    "#### Gnerate Data SEt for regrssion"
   ]
  },
  {
   "cell_type": "code",
   "execution_count": 79,
   "metadata": {},
   "outputs": [],
   "source": [
    "from sklearn.datasets import make_regression\n",
    "X, Y =make_regression(n_samples=1000,n_features=10,noise=10,n_informative=6,random_state=45)"
   ]
  },
  {
   "cell_type": "code",
   "execution_count": 80,
   "metadata": {},
   "outputs": [
    {
     "data": {
      "text/plain": [
       "array([[ 0.83792737,  0.62783581, -1.81548423,  0.29076177, -0.42685615,\n",
       "         0.3665482 , -0.37518955, -0.62720387,  0.37949431, -1.61576754],\n",
       "       [ 0.91960508, -0.36965774,  0.46165001,  1.55352557, -0.45478778,\n",
       "        -0.81412114,  0.40820595, -0.10021234, -1.13271074,  0.22224591],\n",
       "       [ 0.63598412, -0.38507179,  0.98129377,  1.3677489 , -0.29676543,\n",
       "         2.22866175, -1.27912812,  1.10466337,  1.12655756, -0.50327101],\n",
       "       [ 0.35113842, -0.57891311,  0.58410619,  1.85721408, -1.14907957,\n",
       "         1.03986499,  2.77099871, -0.76269569, -0.6949425 ,  1.13931284],\n",
       "       [-0.08582706,  1.17580423,  1.19474998, -1.4188167 ,  0.54855504,\n",
       "         0.70212439, -2.58623652, -0.8362182 ,  1.0056735 ,  0.25394797]])"
      ]
     },
     "execution_count": 80,
     "metadata": {},
     "output_type": "execute_result"
    }
   ],
   "source": [
    "X[:5]"
   ]
  },
  {
   "cell_type": "code",
   "execution_count": 81,
   "metadata": {},
   "outputs": [
    {
     "data": {
      "text/plain": [
       "array([  12.60579898,   15.80518452,   52.66974229, -138.93892913,\n",
       "         63.04904869])"
      ]
     },
     "execution_count": 81,
     "metadata": {},
     "output_type": "execute_result"
    }
   ],
   "source": [
    "Y[:5]"
   ]
  },
  {
   "cell_type": "code",
   "execution_count": 82,
   "metadata": {},
   "outputs": [],
   "source": [
    "import pandas as pd\n",
    "X=pd.DataFrame(X)"
   ]
  },
  {
   "cell_type": "code",
   "execution_count": 83,
   "metadata": {},
   "outputs": [
    {
     "data": {
      "text/html": [
       "<div>\n",
       "<style scoped>\n",
       "    .dataframe tbody tr th:only-of-type {\n",
       "        vertical-align: middle;\n",
       "    }\n",
       "\n",
       "    .dataframe tbody tr th {\n",
       "        vertical-align: top;\n",
       "    }\n",
       "\n",
       "    .dataframe thead th {\n",
       "        text-align: right;\n",
       "    }\n",
       "</style>\n",
       "<table border=\"1\" class=\"dataframe\">\n",
       "  <thead>\n",
       "    <tr style=\"text-align: right;\">\n",
       "      <th></th>\n",
       "      <th>0</th>\n",
       "      <th>1</th>\n",
       "      <th>2</th>\n",
       "      <th>3</th>\n",
       "      <th>4</th>\n",
       "      <th>5</th>\n",
       "      <th>6</th>\n",
       "      <th>7</th>\n",
       "      <th>8</th>\n",
       "      <th>9</th>\n",
       "    </tr>\n",
       "  </thead>\n",
       "  <tbody>\n",
       "    <tr>\n",
       "      <th>0</th>\n",
       "      <td>0.837927</td>\n",
       "      <td>0.627836</td>\n",
       "      <td>-1.815484</td>\n",
       "      <td>0.290762</td>\n",
       "      <td>-0.426856</td>\n",
       "      <td>0.366548</td>\n",
       "      <td>-0.375190</td>\n",
       "      <td>-0.627204</td>\n",
       "      <td>0.379494</td>\n",
       "      <td>-1.615768</td>\n",
       "    </tr>\n",
       "    <tr>\n",
       "      <th>1</th>\n",
       "      <td>0.919605</td>\n",
       "      <td>-0.369658</td>\n",
       "      <td>0.461650</td>\n",
       "      <td>1.553526</td>\n",
       "      <td>-0.454788</td>\n",
       "      <td>-0.814121</td>\n",
       "      <td>0.408206</td>\n",
       "      <td>-0.100212</td>\n",
       "      <td>-1.132711</td>\n",
       "      <td>0.222246</td>\n",
       "    </tr>\n",
       "    <tr>\n",
       "      <th>2</th>\n",
       "      <td>0.635984</td>\n",
       "      <td>-0.385072</td>\n",
       "      <td>0.981294</td>\n",
       "      <td>1.367749</td>\n",
       "      <td>-0.296765</td>\n",
       "      <td>2.228662</td>\n",
       "      <td>-1.279128</td>\n",
       "      <td>1.104663</td>\n",
       "      <td>1.126558</td>\n",
       "      <td>-0.503271</td>\n",
       "    </tr>\n",
       "    <tr>\n",
       "      <th>3</th>\n",
       "      <td>0.351138</td>\n",
       "      <td>-0.578913</td>\n",
       "      <td>0.584106</td>\n",
       "      <td>1.857214</td>\n",
       "      <td>-1.149080</td>\n",
       "      <td>1.039865</td>\n",
       "      <td>2.770999</td>\n",
       "      <td>-0.762696</td>\n",
       "      <td>-0.694943</td>\n",
       "      <td>1.139313</td>\n",
       "    </tr>\n",
       "    <tr>\n",
       "      <th>4</th>\n",
       "      <td>-0.085827</td>\n",
       "      <td>1.175804</td>\n",
       "      <td>1.194750</td>\n",
       "      <td>-1.418817</td>\n",
       "      <td>0.548555</td>\n",
       "      <td>0.702124</td>\n",
       "      <td>-2.586237</td>\n",
       "      <td>-0.836218</td>\n",
       "      <td>1.005673</td>\n",
       "      <td>0.253948</td>\n",
       "    </tr>\n",
       "  </tbody>\n",
       "</table>\n",
       "</div>"
      ],
      "text/plain": [
       "          0         1         2         3         4         5         6  \\\n",
       "0  0.837927  0.627836 -1.815484  0.290762 -0.426856  0.366548 -0.375190   \n",
       "1  0.919605 -0.369658  0.461650  1.553526 -0.454788 -0.814121  0.408206   \n",
       "2  0.635984 -0.385072  0.981294  1.367749 -0.296765  2.228662 -1.279128   \n",
       "3  0.351138 -0.578913  0.584106  1.857214 -1.149080  1.039865  2.770999   \n",
       "4 -0.085827  1.175804  1.194750 -1.418817  0.548555  0.702124 -2.586237   \n",
       "\n",
       "          7         8         9  \n",
       "0 -0.627204  0.379494 -1.615768  \n",
       "1 -0.100212 -1.132711  0.222246  \n",
       "2  1.104663  1.126558 -0.503271  \n",
       "3 -0.762696 -0.694943  1.139313  \n",
       "4 -0.836218  1.005673  0.253948  "
      ]
     },
     "execution_count": 83,
     "metadata": {},
     "output_type": "execute_result"
    }
   ],
   "source": [
    "X.head()"
   ]
  },
  {
   "cell_type": "code",
   "execution_count": 84,
   "metadata": {},
   "outputs": [
    {
     "data": {
      "text/plain": [
       "['x1', 'x2', 'x3', 'x4', 'x5', 'x6', 'x7', 'x8', 'x9', 'x10']"
      ]
     },
     "execution_count": 84,
     "metadata": {},
     "output_type": "execute_result"
    }
   ],
   "source": [
    "cols=[f'x{i+1}'for i in range(10)]\n",
    "cols"
   ]
  },
  {
   "cell_type": "code",
   "execution_count": 85,
   "metadata": {},
   "outputs": [
    {
     "data": {
      "text/html": [
       "<div>\n",
       "<style scoped>\n",
       "    .dataframe tbody tr th:only-of-type {\n",
       "        vertical-align: middle;\n",
       "    }\n",
       "\n",
       "    .dataframe tbody tr th {\n",
       "        vertical-align: top;\n",
       "    }\n",
       "\n",
       "    .dataframe thead th {\n",
       "        text-align: right;\n",
       "    }\n",
       "</style>\n",
       "<table border=\"1\" class=\"dataframe\">\n",
       "  <thead>\n",
       "    <tr style=\"text-align: right;\">\n",
       "      <th></th>\n",
       "      <th>x1</th>\n",
       "      <th>x2</th>\n",
       "      <th>x3</th>\n",
       "      <th>x4</th>\n",
       "      <th>x5</th>\n",
       "      <th>x6</th>\n",
       "      <th>x7</th>\n",
       "      <th>x8</th>\n",
       "      <th>x9</th>\n",
       "      <th>x10</th>\n",
       "    </tr>\n",
       "  </thead>\n",
       "  <tbody>\n",
       "    <tr>\n",
       "      <th>0</th>\n",
       "      <td>0.837927</td>\n",
       "      <td>0.627836</td>\n",
       "      <td>-1.815484</td>\n",
       "      <td>0.290762</td>\n",
       "      <td>-0.426856</td>\n",
       "      <td>0.366548</td>\n",
       "      <td>-0.375190</td>\n",
       "      <td>-0.627204</td>\n",
       "      <td>0.379494</td>\n",
       "      <td>-1.615768</td>\n",
       "    </tr>\n",
       "    <tr>\n",
       "      <th>1</th>\n",
       "      <td>0.919605</td>\n",
       "      <td>-0.369658</td>\n",
       "      <td>0.461650</td>\n",
       "      <td>1.553526</td>\n",
       "      <td>-0.454788</td>\n",
       "      <td>-0.814121</td>\n",
       "      <td>0.408206</td>\n",
       "      <td>-0.100212</td>\n",
       "      <td>-1.132711</td>\n",
       "      <td>0.222246</td>\n",
       "    </tr>\n",
       "    <tr>\n",
       "      <th>2</th>\n",
       "      <td>0.635984</td>\n",
       "      <td>-0.385072</td>\n",
       "      <td>0.981294</td>\n",
       "      <td>1.367749</td>\n",
       "      <td>-0.296765</td>\n",
       "      <td>2.228662</td>\n",
       "      <td>-1.279128</td>\n",
       "      <td>1.104663</td>\n",
       "      <td>1.126558</td>\n",
       "      <td>-0.503271</td>\n",
       "    </tr>\n",
       "    <tr>\n",
       "      <th>3</th>\n",
       "      <td>0.351138</td>\n",
       "      <td>-0.578913</td>\n",
       "      <td>0.584106</td>\n",
       "      <td>1.857214</td>\n",
       "      <td>-1.149080</td>\n",
       "      <td>1.039865</td>\n",
       "      <td>2.770999</td>\n",
       "      <td>-0.762696</td>\n",
       "      <td>-0.694943</td>\n",
       "      <td>1.139313</td>\n",
       "    </tr>\n",
       "    <tr>\n",
       "      <th>4</th>\n",
       "      <td>-0.085827</td>\n",
       "      <td>1.175804</td>\n",
       "      <td>1.194750</td>\n",
       "      <td>-1.418817</td>\n",
       "      <td>0.548555</td>\n",
       "      <td>0.702124</td>\n",
       "      <td>-2.586237</td>\n",
       "      <td>-0.836218</td>\n",
       "      <td>1.005673</td>\n",
       "      <td>0.253948</td>\n",
       "    </tr>\n",
       "  </tbody>\n",
       "</table>\n",
       "</div>"
      ],
      "text/plain": [
       "         x1        x2        x3        x4        x5        x6        x7  \\\n",
       "0  0.837927  0.627836 -1.815484  0.290762 -0.426856  0.366548 -0.375190   \n",
       "1  0.919605 -0.369658  0.461650  1.553526 -0.454788 -0.814121  0.408206   \n",
       "2  0.635984 -0.385072  0.981294  1.367749 -0.296765  2.228662 -1.279128   \n",
       "3  0.351138 -0.578913  0.584106  1.857214 -1.149080  1.039865  2.770999   \n",
       "4 -0.085827  1.175804  1.194750 -1.418817  0.548555  0.702124 -2.586237   \n",
       "\n",
       "         x8        x9       x10  \n",
       "0 -0.627204  0.379494 -1.615768  \n",
       "1 -0.100212 -1.132711  0.222246  \n",
       "2  1.104663  1.126558 -0.503271  \n",
       "3 -0.762696 -0.694943  1.139313  \n",
       "4 -0.836218  1.005673  0.253948  "
      ]
     },
     "execution_count": 85,
     "metadata": {},
     "output_type": "execute_result"
    }
   ],
   "source": [
    "X.columns=cols\n",
    "X.head()"
   ]
  },
  {
   "cell_type": "code",
   "execution_count": 86,
   "metadata": {},
   "outputs": [
    {
     "data": {
      "text/html": [
       "<div>\n",
       "<style scoped>\n",
       "    .dataframe tbody tr th:only-of-type {\n",
       "        vertical-align: middle;\n",
       "    }\n",
       "\n",
       "    .dataframe tbody tr th {\n",
       "        vertical-align: top;\n",
       "    }\n",
       "\n",
       "    .dataframe thead th {\n",
       "        text-align: right;\n",
       "    }\n",
       "</style>\n",
       "<table border=\"1\" class=\"dataframe\">\n",
       "  <thead>\n",
       "    <tr style=\"text-align: right;\">\n",
       "      <th></th>\n",
       "      <th>Y</th>\n",
       "    </tr>\n",
       "  </thead>\n",
       "  <tbody>\n",
       "    <tr>\n",
       "      <th>0</th>\n",
       "      <td>12.605799</td>\n",
       "    </tr>\n",
       "    <tr>\n",
       "      <th>1</th>\n",
       "      <td>15.805185</td>\n",
       "    </tr>\n",
       "    <tr>\n",
       "      <th>2</th>\n",
       "      <td>52.669742</td>\n",
       "    </tr>\n",
       "    <tr>\n",
       "      <th>3</th>\n",
       "      <td>-138.938929</td>\n",
       "    </tr>\n",
       "    <tr>\n",
       "      <th>4</th>\n",
       "      <td>63.049049</td>\n",
       "    </tr>\n",
       "  </tbody>\n",
       "</table>\n",
       "</div>"
      ],
      "text/plain": [
       "            Y\n",
       "0   12.605799\n",
       "1   15.805185\n",
       "2   52.669742\n",
       "3 -138.938929\n",
       "4   63.049049"
      ]
     },
     "execution_count": 86,
     "metadata": {},
     "output_type": "execute_result"
    }
   ],
   "source": [
    "Y=pd.DataFrame(Y)\n",
    "Y.columns=['Y']\n",
    "Y.head()"
   ]
  },
  {
   "cell_type": "code",
   "execution_count": 87,
   "metadata": {},
   "outputs": [
    {
     "data": {
      "text/plain": [
       "x1     0\n",
       "x2     0\n",
       "x3     0\n",
       "x4     0\n",
       "x5     0\n",
       "x6     0\n",
       "x7     0\n",
       "x8     0\n",
       "x9     0\n",
       "x10    0\n",
       "dtype: int64"
      ]
     },
     "execution_count": 87,
     "metadata": {},
     "output_type": "execute_result"
    }
   ],
   "source": [
    "X.isna().sum()"
   ]
  },
  {
   "cell_type": "markdown",
   "metadata": {},
   "source": [
    "### Preprocessing on X dataframe - Scikit Learn pipelines"
   ]
  },
  {
   "cell_type": "code",
   "execution_count": 88,
   "metadata": {},
   "outputs": [],
   "source": [
    "from sklearn.pipeline import Pipeline\n",
    "from sklearn.impute import SimpleImputer\n",
    "from sklearn.preprocessing import StandardScaler"
   ]
  },
  {
   "cell_type": "code",
   "execution_count": 89,
   "metadata": {},
   "outputs": [],
   "source": [
    "num_pipe=Pipeline(steps=[('impute',SimpleImputer(strategy='median')),\n",
    "                         ('scaler',StandardScaler())])"
   ]
  },
  {
   "cell_type": "code",
   "execution_count": 90,
   "metadata": {},
   "outputs": [
    {
     "data": {
      "text/plain": [
       "array([[ 0.80645875,  0.66693244, -1.81614953, ..., -0.63810523,\n",
       "         0.34037643, -1.65071543],\n",
       "       [ 0.88696245, -0.32701783,  0.47907949, ..., -0.10614359,\n",
       "        -1.15099565,  0.22613813],\n",
       "       [ 0.6074182 , -0.34237713,  1.0028525 , ...,  1.11009543,\n",
       "         1.07714772, -0.51471011],\n",
       "       ...,\n",
       "       [ 1.12486096, -0.99208203, -0.17895809, ...,  0.26226957,\n",
       "         0.04262856, -0.5298615 ],\n",
       "       [-0.41774431,  2.51543603,  0.24226588, ..., -0.42752834,\n",
       "         0.2478322 , -0.23068655],\n",
       "       [ 0.76112904, -1.48718546,  1.25001744, ...,  0.89539337,\n",
       "         0.40721174, -0.53123667]])"
      ]
     },
     "execution_count": 90,
     "metadata": {},
     "output_type": "execute_result"
    }
   ],
   "source": [
    "X_pre=num_pipe.fit_transform(X)\n",
    "X_pre"
   ]
  },
  {
   "cell_type": "code",
   "execution_count": 91,
   "metadata": {},
   "outputs": [
    {
     "data": {
      "text/plain": [
       "array(['x1', 'x2', 'x3', 'x4', 'x5', 'x6', 'x7', 'x8', 'x9', 'x10'],\n",
       "      dtype=object)"
      ]
     },
     "execution_count": 91,
     "metadata": {},
     "output_type": "execute_result"
    }
   ],
   "source": [
    "cols=num_pipe.get_feature_names_out()\n",
    "cols"
   ]
  },
  {
   "cell_type": "code",
   "execution_count": 92,
   "metadata": {},
   "outputs": [
    {
     "data": {
      "text/html": [
       "<div>\n",
       "<style scoped>\n",
       "    .dataframe tbody tr th:only-of-type {\n",
       "        vertical-align: middle;\n",
       "    }\n",
       "\n",
       "    .dataframe tbody tr th {\n",
       "        vertical-align: top;\n",
       "    }\n",
       "\n",
       "    .dataframe thead th {\n",
       "        text-align: right;\n",
       "    }\n",
       "</style>\n",
       "<table border=\"1\" class=\"dataframe\">\n",
       "  <thead>\n",
       "    <tr style=\"text-align: right;\">\n",
       "      <th></th>\n",
       "      <th>x1</th>\n",
       "      <th>x2</th>\n",
       "      <th>x3</th>\n",
       "      <th>x4</th>\n",
       "      <th>x5</th>\n",
       "      <th>x6</th>\n",
       "      <th>x7</th>\n",
       "      <th>x8</th>\n",
       "      <th>x9</th>\n",
       "      <th>x10</th>\n",
       "    </tr>\n",
       "  </thead>\n",
       "  <tbody>\n",
       "    <tr>\n",
       "      <th>0</th>\n",
       "      <td>0.806459</td>\n",
       "      <td>0.666932</td>\n",
       "      <td>-1.816150</td>\n",
       "      <td>0.327141</td>\n",
       "      <td>-0.443286</td>\n",
       "      <td>0.400837</td>\n",
       "      <td>-0.394957</td>\n",
       "      <td>-0.638105</td>\n",
       "      <td>0.340376</td>\n",
       "      <td>-1.650715</td>\n",
       "    </tr>\n",
       "    <tr>\n",
       "      <th>1</th>\n",
       "      <td>0.886962</td>\n",
       "      <td>-0.327018</td>\n",
       "      <td>0.479079</td>\n",
       "      <td>1.642394</td>\n",
       "      <td>-0.471719</td>\n",
       "      <td>-0.769903</td>\n",
       "      <td>0.386846</td>\n",
       "      <td>-0.106144</td>\n",
       "      <td>-1.150996</td>\n",
       "      <td>0.226138</td>\n",
       "    </tr>\n",
       "    <tr>\n",
       "      <th>2</th>\n",
       "      <td>0.607418</td>\n",
       "      <td>-0.342377</td>\n",
       "      <td>1.002852</td>\n",
       "      <td>1.448895</td>\n",
       "      <td>-0.310864</td>\n",
       "      <td>2.247291</td>\n",
       "      <td>-1.297058</td>\n",
       "      <td>1.110095</td>\n",
       "      <td>1.077148</td>\n",
       "      <td>-0.514710</td>\n",
       "    </tr>\n",
       "    <tr>\n",
       "      <th>3</th>\n",
       "      <td>0.326667</td>\n",
       "      <td>-0.535530</td>\n",
       "      <td>0.602509</td>\n",
       "      <td>1.958706</td>\n",
       "      <td>-1.178456</td>\n",
       "      <td>1.068492</td>\n",
       "      <td>2.744836</td>\n",
       "      <td>-0.774875</td>\n",
       "      <td>-0.719258</td>\n",
       "      <td>1.162584</td>\n",
       "    </tr>\n",
       "    <tr>\n",
       "      <th>4</th>\n",
       "      <td>-0.104018</td>\n",
       "      <td>1.212954</td>\n",
       "      <td>1.218005</td>\n",
       "      <td>-1.453499</td>\n",
       "      <td>0.549610</td>\n",
       "      <td>0.733591</td>\n",
       "      <td>-2.601509</td>\n",
       "      <td>-0.849091</td>\n",
       "      <td>0.957929</td>\n",
       "      <td>0.258510</td>\n",
       "    </tr>\n",
       "  </tbody>\n",
       "</table>\n",
       "</div>"
      ],
      "text/plain": [
       "         x1        x2        x3        x4        x5        x6        x7  \\\n",
       "0  0.806459  0.666932 -1.816150  0.327141 -0.443286  0.400837 -0.394957   \n",
       "1  0.886962 -0.327018  0.479079  1.642394 -0.471719 -0.769903  0.386846   \n",
       "2  0.607418 -0.342377  1.002852  1.448895 -0.310864  2.247291 -1.297058   \n",
       "3  0.326667 -0.535530  0.602509  1.958706 -1.178456  1.068492  2.744836   \n",
       "4 -0.104018  1.212954  1.218005 -1.453499  0.549610  0.733591 -2.601509   \n",
       "\n",
       "         x8        x9       x10  \n",
       "0 -0.638105  0.340376 -1.650715  \n",
       "1 -0.106144 -1.150996  0.226138  \n",
       "2  1.110095  1.077148 -0.514710  \n",
       "3 -0.774875 -0.719258  1.162584  \n",
       "4 -0.849091  0.957929  0.258510  "
      ]
     },
     "execution_count": 92,
     "metadata": {},
     "output_type": "execute_result"
    }
   ],
   "source": [
    "X_pre=pd.DataFrame(X_pre,columns=cols)\n",
    "X_pre.head()"
   ]
  },
  {
   "cell_type": "code",
   "execution_count": null,
   "metadata": {},
   "outputs": [],
   "source": []
  },
  {
   "cell_type": "code",
   "execution_count": 93,
   "metadata": {},
   "outputs": [
    {
     "data": {
      "text/plain": [
       "x1    -0.039848\n",
       "x2    -0.022435\n",
       "x3    -0.017695\n",
       "x4    -0.017987\n",
       "x5    -0.005322\n",
       "x6    -0.035901\n",
       "x7    -0.037796\n",
       "x8    -0.005218\n",
       "x9     0.011616\n",
       "x10    0.008344\n",
       "dtype: float64"
      ]
     },
     "execution_count": 93,
     "metadata": {},
     "output_type": "execute_result"
    }
   ],
   "source": [
    "X_pre.median()"
   ]
  },
  {
   "cell_type": "code",
   "execution_count": 94,
   "metadata": {},
   "outputs": [
    {
     "data": {
      "text/plain": [
       "x1     1.0005\n",
       "x2     1.0005\n",
       "x3     1.0005\n",
       "x4     1.0005\n",
       "x5     1.0005\n",
       "x6     1.0005\n",
       "x7     1.0005\n",
       "x8     1.0005\n",
       "x9     1.0005\n",
       "x10    1.0005\n",
       "dtype: float64"
      ]
     },
     "execution_count": 94,
     "metadata": {},
     "output_type": "execute_result"
    }
   ],
   "source": [
    "X_pre.std()"
   ]
  },
  {
   "cell_type": "markdown",
   "metadata": {},
   "source": [
    "### Train Test Split"
   ]
  },
  {
   "cell_type": "code",
   "execution_count": 95,
   "metadata": {},
   "outputs": [],
   "source": [
    "from sklearn.model_selection import train_test_split\n",
    "xtrain,xtest,ytrain,ytest=train_test_split(X_pre,Y,test_size=0.2,random_state=40)\n"
   ]
  },
  {
   "cell_type": "code",
   "execution_count": 96,
   "metadata": {},
   "outputs": [
    {
     "data": {
      "text/html": [
       "<div>\n",
       "<style scoped>\n",
       "    .dataframe tbody tr th:only-of-type {\n",
       "        vertical-align: middle;\n",
       "    }\n",
       "\n",
       "    .dataframe tbody tr th {\n",
       "        vertical-align: top;\n",
       "    }\n",
       "\n",
       "    .dataframe thead th {\n",
       "        text-align: right;\n",
       "    }\n",
       "</style>\n",
       "<table border=\"1\" class=\"dataframe\">\n",
       "  <thead>\n",
       "    <tr style=\"text-align: right;\">\n",
       "      <th></th>\n",
       "      <th>x1</th>\n",
       "      <th>x2</th>\n",
       "      <th>x3</th>\n",
       "      <th>x4</th>\n",
       "      <th>x5</th>\n",
       "      <th>x6</th>\n",
       "      <th>x7</th>\n",
       "      <th>x8</th>\n",
       "      <th>x9</th>\n",
       "      <th>x10</th>\n",
       "    </tr>\n",
       "  </thead>\n",
       "  <tbody>\n",
       "    <tr>\n",
       "      <th>970</th>\n",
       "      <td>0.976567</td>\n",
       "      <td>1.841000</td>\n",
       "      <td>-1.929053</td>\n",
       "      <td>1.353463</td>\n",
       "      <td>0.511631</td>\n",
       "      <td>-0.222417</td>\n",
       "      <td>2.203949</td>\n",
       "      <td>0.905693</td>\n",
       "      <td>0.406189</td>\n",
       "      <td>2.056477</td>\n",
       "    </tr>\n",
       "    <tr>\n",
       "      <th>137</th>\n",
       "      <td>-0.600498</td>\n",
       "      <td>-0.010706</td>\n",
       "      <td>-0.234694</td>\n",
       "      <td>-0.831905</td>\n",
       "      <td>0.430001</td>\n",
       "      <td>-0.170409</td>\n",
       "      <td>-0.679779</td>\n",
       "      <td>-0.066034</td>\n",
       "      <td>-0.227860</td>\n",
       "      <td>-0.087843</td>\n",
       "    </tr>\n",
       "    <tr>\n",
       "      <th>82</th>\n",
       "      <td>-0.199920</td>\n",
       "      <td>-0.460294</td>\n",
       "      <td>-1.162526</td>\n",
       "      <td>-1.615935</td>\n",
       "      <td>-0.908851</td>\n",
       "      <td>0.141513</td>\n",
       "      <td>0.130891</td>\n",
       "      <td>0.467028</td>\n",
       "      <td>-1.397042</td>\n",
       "      <td>0.527348</td>\n",
       "    </tr>\n",
       "    <tr>\n",
       "      <th>188</th>\n",
       "      <td>-0.520491</td>\n",
       "      <td>0.403826</td>\n",
       "      <td>-2.156195</td>\n",
       "      <td>0.639152</td>\n",
       "      <td>0.825526</td>\n",
       "      <td>-1.300016</td>\n",
       "      <td>1.466059</td>\n",
       "      <td>0.763038</td>\n",
       "      <td>1.484428</td>\n",
       "      <td>1.400302</td>\n",
       "    </tr>\n",
       "    <tr>\n",
       "      <th>358</th>\n",
       "      <td>-0.533239</td>\n",
       "      <td>0.768385</td>\n",
       "      <td>0.097298</td>\n",
       "      <td>-0.342510</td>\n",
       "      <td>1.153275</td>\n",
       "      <td>1.808243</td>\n",
       "      <td>0.128846</td>\n",
       "      <td>0.503375</td>\n",
       "      <td>-0.034085</td>\n",
       "      <td>-0.443929</td>\n",
       "    </tr>\n",
       "  </tbody>\n",
       "</table>\n",
       "</div>"
      ],
      "text/plain": [
       "           x1        x2        x3        x4        x5        x6        x7  \\\n",
       "970  0.976567  1.841000 -1.929053  1.353463  0.511631 -0.222417  2.203949   \n",
       "137 -0.600498 -0.010706 -0.234694 -0.831905  0.430001 -0.170409 -0.679779   \n",
       "82  -0.199920 -0.460294 -1.162526 -1.615935 -0.908851  0.141513  0.130891   \n",
       "188 -0.520491  0.403826 -2.156195  0.639152  0.825526 -1.300016  1.466059   \n",
       "358 -0.533239  0.768385  0.097298 -0.342510  1.153275  1.808243  0.128846   \n",
       "\n",
       "           x8        x9       x10  \n",
       "970  0.905693  0.406189  2.056477  \n",
       "137 -0.066034 -0.227860 -0.087843  \n",
       "82   0.467028 -1.397042  0.527348  \n",
       "188  0.763038  1.484428  1.400302  \n",
       "358  0.503375 -0.034085 -0.443929  "
      ]
     },
     "execution_count": 96,
     "metadata": {},
     "output_type": "execute_result"
    }
   ],
   "source": [
    "xtrain.head()"
   ]
  },
  {
   "cell_type": "code",
   "execution_count": 97,
   "metadata": {},
   "outputs": [
    {
     "data": {
      "text/html": [
       "<div>\n",
       "<style scoped>\n",
       "    .dataframe tbody tr th:only-of-type {\n",
       "        vertical-align: middle;\n",
       "    }\n",
       "\n",
       "    .dataframe tbody tr th {\n",
       "        vertical-align: top;\n",
       "    }\n",
       "\n",
       "    .dataframe thead th {\n",
       "        text-align: right;\n",
       "    }\n",
       "</style>\n",
       "<table border=\"1\" class=\"dataframe\">\n",
       "  <thead>\n",
       "    <tr style=\"text-align: right;\">\n",
       "      <th></th>\n",
       "      <th>Y</th>\n",
       "    </tr>\n",
       "  </thead>\n",
       "  <tbody>\n",
       "    <tr>\n",
       "      <th>970</th>\n",
       "      <td>313.249294</td>\n",
       "    </tr>\n",
       "    <tr>\n",
       "      <th>137</th>\n",
       "      <td>-11.449286</td>\n",
       "    </tr>\n",
       "    <tr>\n",
       "      <th>82</th>\n",
       "      <td>-87.826604</td>\n",
       "    </tr>\n",
       "    <tr>\n",
       "      <th>188</th>\n",
       "      <td>110.397575</td>\n",
       "    </tr>\n",
       "    <tr>\n",
       "      <th>358</th>\n",
       "      <td>146.226667</td>\n",
       "    </tr>\n",
       "  </tbody>\n",
       "</table>\n",
       "</div>"
      ],
      "text/plain": [
       "              Y\n",
       "970  313.249294\n",
       "137  -11.449286\n",
       "82   -87.826604\n",
       "188  110.397575\n",
       "358  146.226667"
      ]
     },
     "execution_count": 97,
     "metadata": {},
     "output_type": "execute_result"
    }
   ],
   "source": [
    "ytrain.head()"
   ]
  },
  {
   "cell_type": "code",
   "execution_count": 98,
   "metadata": {},
   "outputs": [
    {
     "data": {
      "text/html": [
       "<div>\n",
       "<style scoped>\n",
       "    .dataframe tbody tr th:only-of-type {\n",
       "        vertical-align: middle;\n",
       "    }\n",
       "\n",
       "    .dataframe tbody tr th {\n",
       "        vertical-align: top;\n",
       "    }\n",
       "\n",
       "    .dataframe thead th {\n",
       "        text-align: right;\n",
       "    }\n",
       "</style>\n",
       "<table border=\"1\" class=\"dataframe\">\n",
       "  <thead>\n",
       "    <tr style=\"text-align: right;\">\n",
       "      <th></th>\n",
       "      <th>x1</th>\n",
       "      <th>x2</th>\n",
       "      <th>x3</th>\n",
       "      <th>x4</th>\n",
       "      <th>x5</th>\n",
       "      <th>x6</th>\n",
       "      <th>x7</th>\n",
       "      <th>x8</th>\n",
       "      <th>x9</th>\n",
       "      <th>x10</th>\n",
       "    </tr>\n",
       "  </thead>\n",
       "  <tbody>\n",
       "    <tr>\n",
       "      <th>204</th>\n",
       "      <td>-1.197522</td>\n",
       "      <td>-0.204013</td>\n",
       "      <td>1.375661</td>\n",
       "      <td>-1.026298</td>\n",
       "      <td>2.655075</td>\n",
       "      <td>0.595093</td>\n",
       "      <td>-2.072878</td>\n",
       "      <td>0.309150</td>\n",
       "      <td>-0.269186</td>\n",
       "      <td>-1.720511</td>\n",
       "    </tr>\n",
       "    <tr>\n",
       "      <th>71</th>\n",
       "      <td>-1.183582</td>\n",
       "      <td>-0.384396</td>\n",
       "      <td>1.049313</td>\n",
       "      <td>-0.365194</td>\n",
       "      <td>-0.750863</td>\n",
       "      <td>0.857688</td>\n",
       "      <td>-0.570766</td>\n",
       "      <td>0.361526</td>\n",
       "      <td>0.934864</td>\n",
       "      <td>1.331427</td>\n",
       "    </tr>\n",
       "    <tr>\n",
       "      <th>594</th>\n",
       "      <td>-0.478827</td>\n",
       "      <td>-0.184163</td>\n",
       "      <td>-1.836524</td>\n",
       "      <td>-1.164319</td>\n",
       "      <td>-0.786392</td>\n",
       "      <td>0.177233</td>\n",
       "      <td>0.852520</td>\n",
       "      <td>1.175217</td>\n",
       "      <td>2.409104</td>\n",
       "      <td>-0.147888</td>\n",
       "    </tr>\n",
       "    <tr>\n",
       "      <th>672</th>\n",
       "      <td>-0.867263</td>\n",
       "      <td>0.946244</td>\n",
       "      <td>1.207876</td>\n",
       "      <td>0.289385</td>\n",
       "      <td>0.729491</td>\n",
       "      <td>-0.412139</td>\n",
       "      <td>1.364977</td>\n",
       "      <td>-0.201249</td>\n",
       "      <td>-0.473897</td>\n",
       "      <td>-0.666355</td>\n",
       "    </tr>\n",
       "    <tr>\n",
       "      <th>14</th>\n",
       "      <td>0.480245</td>\n",
       "      <td>-1.036075</td>\n",
       "      <td>0.134806</td>\n",
       "      <td>-0.312055</td>\n",
       "      <td>-0.917405</td>\n",
       "      <td>0.368541</td>\n",
       "      <td>-2.077744</td>\n",
       "      <td>-0.410088</td>\n",
       "      <td>-0.464906</td>\n",
       "      <td>0.648025</td>\n",
       "    </tr>\n",
       "  </tbody>\n",
       "</table>\n",
       "</div>"
      ],
      "text/plain": [
       "           x1        x2        x3        x4        x5        x6        x7  \\\n",
       "204 -1.197522 -0.204013  1.375661 -1.026298  2.655075  0.595093 -2.072878   \n",
       "71  -1.183582 -0.384396  1.049313 -0.365194 -0.750863  0.857688 -0.570766   \n",
       "594 -0.478827 -0.184163 -1.836524 -1.164319 -0.786392  0.177233  0.852520   \n",
       "672 -0.867263  0.946244  1.207876  0.289385  0.729491 -0.412139  1.364977   \n",
       "14   0.480245 -1.036075  0.134806 -0.312055 -0.917405  0.368541 -2.077744   \n",
       "\n",
       "           x8        x9       x10  \n",
       "204  0.309150 -0.269186 -1.720511  \n",
       "71   0.361526  0.934864  1.331427  \n",
       "594  1.175217  2.409104 -0.147888  \n",
       "672 -0.201249 -0.473897 -0.666355  \n",
       "14  -0.410088 -0.464906  0.648025  "
      ]
     },
     "execution_count": 98,
     "metadata": {},
     "output_type": "execute_result"
    }
   ],
   "source": [
    "xtest.head()"
   ]
  },
  {
   "cell_type": "code",
   "execution_count": 99,
   "metadata": {},
   "outputs": [
    {
     "data": {
      "text/html": [
       "<div>\n",
       "<style scoped>\n",
       "    .dataframe tbody tr th:only-of-type {\n",
       "        vertical-align: middle;\n",
       "    }\n",
       "\n",
       "    .dataframe tbody tr th {\n",
       "        vertical-align: top;\n",
       "    }\n",
       "\n",
       "    .dataframe thead th {\n",
       "        text-align: right;\n",
       "    }\n",
       "</style>\n",
       "<table border=\"1\" class=\"dataframe\">\n",
       "  <thead>\n",
       "    <tr style=\"text-align: right;\">\n",
       "      <th></th>\n",
       "      <th>Y</th>\n",
       "    </tr>\n",
       "  </thead>\n",
       "  <tbody>\n",
       "    <tr>\n",
       "      <th>204</th>\n",
       "      <td>117.280207</td>\n",
       "    </tr>\n",
       "    <tr>\n",
       "      <th>71</th>\n",
       "      <td>-139.344199</td>\n",
       "    </tr>\n",
       "    <tr>\n",
       "      <th>594</th>\n",
       "      <td>-52.200451</td>\n",
       "    </tr>\n",
       "    <tr>\n",
       "      <th>672</th>\n",
       "      <td>39.797586</td>\n",
       "    </tr>\n",
       "    <tr>\n",
       "      <th>14</th>\n",
       "      <td>-131.040234</td>\n",
       "    </tr>\n",
       "  </tbody>\n",
       "</table>\n",
       "</div>"
      ],
      "text/plain": [
       "              Y\n",
       "204  117.280207\n",
       "71  -139.344199\n",
       "594  -52.200451\n",
       "672   39.797586\n",
       "14  -131.040234"
      ]
     },
     "execution_count": 99,
     "metadata": {},
     "output_type": "execute_result"
    }
   ],
   "source": [
    "ytest.head()"
   ]
  },
  {
   "cell_type": "code",
   "execution_count": 100,
   "metadata": {},
   "outputs": [
    {
     "data": {
      "text/plain": [
       "(800, 10)"
      ]
     },
     "execution_count": 100,
     "metadata": {},
     "output_type": "execute_result"
    }
   ],
   "source": [
    "xtrain.shape"
   ]
  },
  {
   "cell_type": "code",
   "execution_count": 101,
   "metadata": {},
   "outputs": [
    {
     "data": {
      "text/plain": [
       "(200, 10)"
      ]
     },
     "execution_count": 101,
     "metadata": {},
     "output_type": "execute_result"
    }
   ],
   "source": [
    "xtest.shape"
   ]
  },
  {
   "cell_type": "markdown",
   "metadata": {},
   "source": [
    "### Creating a Keras Model"
   ]
  },
  {
   "cell_type": "code",
   "execution_count": 102,
   "metadata": {},
   "outputs": [],
   "source": [
    "from keras.models import Sequential\n",
    "from keras.layers import Dense"
   ]
  },
  {
   "cell_type": "code",
   "execution_count": 103,
   "metadata": {},
   "outputs": [],
   "source": [
    "# Intialize the Neural Network Model\n",
    "nn = Sequential()\n",
    "\n",
    "# Input + hidden layer 1\n",
    "nn.add(Dense(64, activation='relu', input_dim=xtrain.shape[1]))\n",
    "\n",
    "# Hidden Layer 2\n",
    "nn.add(Dense(32, activation='relu'))\n",
    "\n",
    "# Output Layer\n",
    "nn.add(Dense(1, activation='linear'))"
   ]
  },
  {
   "cell_type": "markdown",
   "metadata": {},
   "source": [
    "### compile the model"
   ]
  },
  {
   "cell_type": "code",
   "execution_count": 104,
   "metadata": {},
   "outputs": [],
   "source": [
    " nn.compile(optimizer='adam',loss='mse',metrics=['mae'])"
   ]
  },
  {
   "cell_type": "code",
   "execution_count": 105,
   "metadata": {},
   "outputs": [
    {
     "name": "stdout",
     "output_type": "stream",
     "text": [
      "Model: \"sequential_2\"\n",
      "_________________________________________________________________\n",
      " Layer (type)                Output Shape              Param #   \n",
      "=================================================================\n",
      " dense_6 (Dense)             (None, 64)                704       \n",
      "                                                                 \n",
      " dense_7 (Dense)             (None, 32)                2080      \n",
      "                                                                 \n",
      " dense_8 (Dense)             (None, 1)                 33        \n",
      "                                                                 \n",
      "=================================================================\n",
      "Total params: 2817 (11.00 KB)\n",
      "Trainable params: 2817 (11.00 KB)\n",
      "Non-trainable params: 0 (0.00 Byte)\n",
      "_________________________________________________________________\n"
     ]
    }
   ],
   "source": [
    "nn.summary()"
   ]
  },
  {
   "cell_type": "markdown",
   "metadata": {},
   "source": [
    "### Fit the Neural Network"
   ]
  },
  {
   "cell_type": "code",
   "execution_count": 106,
   "metadata": {},
   "outputs": [
    {
     "name": "stdout",
     "output_type": "stream",
     "text": [
      "Epoch 1/100\n",
      " 1/20 [>.............................] - ETA: 20s - loss: 25185.6172 - mae: 127.9430"
     ]
    },
    {
     "name": "stdout",
     "output_type": "stream",
     "text": [
      "20/20 [==============================] - 1s 20ms/step - loss: 23607.8320 - mae: 120.1883 - val_loss: 22508.5898 - val_mae: 123.4300\n",
      "Epoch 2/100\n",
      "20/20 [==============================] - 0s 6ms/step - loss: 23485.6406 - mae: 119.8704 - val_loss: 22363.9336 - val_mae: 123.0181\n",
      "Epoch 3/100\n",
      "20/20 [==============================] - 0s 5ms/step - loss: 23283.8633 - mae: 119.3329 - val_loss: 22094.3301 - val_mae: 122.2500\n",
      "Epoch 4/100\n",
      "20/20 [==============================] - 0s 5ms/step - loss: 22919.4648 - mae: 118.3571 - val_loss: 21638.3789 - val_mae: 120.9269\n",
      "Epoch 5/100\n",
      "20/20 [==============================] - 0s 5ms/step - loss: 22317.0352 - mae: 116.6934 - val_loss: 20923.8867 - val_mae: 118.8044\n",
      "Epoch 6/100\n",
      "20/20 [==============================] - 0s 5ms/step - loss: 21408.0293 - mae: 114.0670 - val_loss: 19836.5879 - val_mae: 115.4859\n",
      "Epoch 7/100\n",
      "20/20 [==============================] - 0s 5ms/step - loss: 20012.9824 - mae: 110.0888 - val_loss: 18311.6816 - val_mae: 110.6353\n",
      "Epoch 8/100\n",
      "20/20 [==============================] - 0s 5ms/step - loss: 18126.5098 - mae: 104.3289 - val_loss: 16277.0176 - val_mae: 103.7848\n",
      "Epoch 9/100\n",
      "20/20 [==============================] - 0s 5ms/step - loss: 15717.8857 - mae: 96.4985 - val_loss: 13761.5654 - val_mae: 94.6385\n",
      "Epoch 10/100\n",
      "20/20 [==============================] - 0s 5ms/step - loss: 12891.3594 - mae: 86.3532 - val_loss: 10947.8779 - val_mae: 83.3167\n",
      "Epoch 11/100\n",
      "20/20 [==============================] - 0s 5ms/step - loss: 9851.6660 - mae: 74.1221 - val_loss: 8127.8892 - val_mae: 70.3101\n",
      "Epoch 12/100\n",
      "20/20 [==============================] - 0s 5ms/step - loss: 6942.8701 - mae: 60.5249 - val_loss: 5533.1978 - val_mae: 56.2887\n",
      "Epoch 13/100\n",
      "20/20 [==============================] - 0s 6ms/step - loss: 4475.6123 - mae: 46.6767 - val_loss: 3469.9812 - val_mae: 43.1951\n",
      "Epoch 14/100\n",
      "20/20 [==============================] - 0s 5ms/step - loss: 2657.5625 - mae: 34.7399 - val_loss: 2076.8503 - val_mae: 33.1125\n",
      "Epoch 15/100\n",
      "20/20 [==============================] - 0s 5ms/step - loss: 1561.1101 - mae: 26.4679 - val_loss: 1240.8982 - val_mae: 25.9679\n",
      "Epoch 16/100\n",
      "20/20 [==============================] - 0s 5ms/step - loss: 994.5939 - mae: 22.0361 - val_loss: 817.8965 - val_mae: 21.6133\n",
      "Epoch 17/100\n",
      "20/20 [==============================] - 0s 5ms/step - loss: 724.0784 - mae: 19.4222 - val_loss: 595.9976 - val_mae: 18.8932\n",
      "Epoch 18/100\n",
      "20/20 [==============================] - 0s 5ms/step - loss: 570.4932 - mae: 17.5797 - val_loss: 458.8447 - val_mae: 16.6609\n",
      "Epoch 19/100\n",
      "20/20 [==============================] - 0s 5ms/step - loss: 457.4772 - mae: 15.7928 - val_loss: 368.6638 - val_mae: 14.9610\n",
      "Epoch 20/100\n",
      "20/20 [==============================] - 0s 5ms/step - loss: 380.6998 - mae: 14.4899 - val_loss: 315.0873 - val_mae: 13.8646\n",
      "Epoch 21/100\n",
      "20/20 [==============================] - 0s 6ms/step - loss: 337.6307 - mae: 13.8240 - val_loss: 288.3615 - val_mae: 13.3074\n",
      "Epoch 22/100\n",
      "20/20 [==============================] - 0s 6ms/step - loss: 315.7221 - mae: 13.5642 - val_loss: 271.9276 - val_mae: 13.0330\n",
      "Epoch 23/100\n",
      "20/20 [==============================] - 0s 5ms/step - loss: 301.4228 - mae: 13.3795 - val_loss: 260.3345 - val_mae: 12.7702\n",
      "Epoch 24/100\n",
      "20/20 [==============================] - 0s 5ms/step - loss: 292.4071 - mae: 13.1732 - val_loss: 257.8587 - val_mae: 12.7648\n",
      "Epoch 25/100\n",
      "20/20 [==============================] - 0s 5ms/step - loss: 285.8185 - mae: 13.1516 - val_loss: 249.8145 - val_mae: 12.5977\n",
      "Epoch 26/100\n",
      "20/20 [==============================] - 0s 5ms/step - loss: 279.5506 - mae: 13.0933 - val_loss: 249.7666 - val_mae: 12.6151\n",
      "Epoch 27/100\n",
      "20/20 [==============================] - 0s 5ms/step - loss: 274.9562 - mae: 12.9324 - val_loss: 242.3221 - val_mae: 12.3755\n",
      "Epoch 28/100\n",
      "20/20 [==============================] - 0s 5ms/step - loss: 269.3235 - mae: 12.8617 - val_loss: 238.4341 - val_mae: 12.3157\n",
      "Epoch 29/100\n",
      "20/20 [==============================] - 0s 5ms/step - loss: 264.9549 - mae: 12.7638 - val_loss: 236.2594 - val_mae: 12.2545\n",
      "Epoch 30/100\n",
      "20/20 [==============================] - 0s 5ms/step - loss: 261.8464 - mae: 12.5874 - val_loss: 234.1205 - val_mae: 12.1852\n",
      "Epoch 31/100\n",
      "20/20 [==============================] - 0s 5ms/step - loss: 256.7846 - mae: 12.4674 - val_loss: 231.8906 - val_mae: 12.1575\n",
      "Epoch 32/100\n",
      "20/20 [==============================] - 0s 5ms/step - loss: 254.3735 - mae: 12.5732 - val_loss: 224.8609 - val_mae: 11.9397\n",
      "Epoch 33/100\n",
      "20/20 [==============================] - 0s 5ms/step - loss: 249.3068 - mae: 12.2576 - val_loss: 221.9297 - val_mae: 11.8590\n",
      "Epoch 34/100\n",
      "20/20 [==============================] - 0s 5ms/step - loss: 245.7213 - mae: 12.2284 - val_loss: 225.2292 - val_mae: 11.9479\n",
      "Epoch 35/100\n",
      "20/20 [==============================] - 0s 5ms/step - loss: 241.1843 - mae: 12.1903 - val_loss: 220.3267 - val_mae: 11.7970\n",
      "Epoch 36/100\n",
      "20/20 [==============================] - 0s 5ms/step - loss: 237.5422 - mae: 11.9954 - val_loss: 214.7983 - val_mae: 11.6710\n",
      "Epoch 37/100\n",
      "20/20 [==============================] - 0s 5ms/step - loss: 234.4596 - mae: 12.0271 - val_loss: 220.9445 - val_mae: 11.7886\n",
      "Epoch 38/100\n",
      "20/20 [==============================] - 0s 5ms/step - loss: 230.0375 - mae: 11.8404 - val_loss: 210.0280 - val_mae: 11.5128\n",
      "Epoch 39/100\n",
      "20/20 [==============================] - 0s 5ms/step - loss: 227.0287 - mae: 11.6795 - val_loss: 205.4809 - val_mae: 11.3789\n",
      "Epoch 40/100\n",
      "20/20 [==============================] - 0s 5ms/step - loss: 223.6225 - mae: 11.6790 - val_loss: 210.4152 - val_mae: 11.5141\n",
      "Epoch 41/100\n",
      "20/20 [==============================] - 0s 6ms/step - loss: 219.6864 - mae: 11.5853 - val_loss: 206.9037 - val_mae: 11.4198\n",
      "Epoch 42/100\n",
      "20/20 [==============================] - 0s 6ms/step - loss: 216.7448 - mae: 11.4650 - val_loss: 205.5674 - val_mae: 11.3602\n",
      "Epoch 43/100\n",
      "20/20 [==============================] - 0s 5ms/step - loss: 211.8944 - mae: 11.3891 - val_loss: 202.4518 - val_mae: 11.2928\n",
      "Epoch 44/100\n",
      "20/20 [==============================] - 0s 5ms/step - loss: 209.4761 - mae: 11.2813 - val_loss: 198.5515 - val_mae: 11.2150\n",
      "Epoch 45/100\n",
      "20/20 [==============================] - 0s 5ms/step - loss: 205.5921 - mae: 11.2130 - val_loss: 200.1384 - val_mae: 11.2290\n",
      "Epoch 46/100\n",
      "20/20 [==============================] - 0s 5ms/step - loss: 202.5726 - mae: 11.1154 - val_loss: 194.3291 - val_mae: 11.0567\n",
      "Epoch 47/100\n",
      "20/20 [==============================] - 0s 5ms/step - loss: 200.5606 - mae: 11.0428 - val_loss: 190.9472 - val_mae: 10.9606\n",
      "Epoch 48/100\n",
      "20/20 [==============================] - 0s 5ms/step - loss: 197.7216 - mae: 10.9736 - val_loss: 195.1396 - val_mae: 11.0903\n",
      "Epoch 49/100\n",
      "20/20 [==============================] - 0s 5ms/step - loss: 194.4357 - mae: 10.8658 - val_loss: 189.8668 - val_mae: 10.9536\n",
      "Epoch 50/100\n",
      "20/20 [==============================] - 0s 6ms/step - loss: 190.8413 - mae: 10.8281 - val_loss: 189.2769 - val_mae: 10.9578\n",
      "Epoch 51/100\n",
      "20/20 [==============================] - 0s 6ms/step - loss: 187.2115 - mae: 10.6744 - val_loss: 186.5468 - val_mae: 10.8722\n",
      "Epoch 52/100\n",
      "20/20 [==============================] - 0s 5ms/step - loss: 184.8803 - mae: 10.5875 - val_loss: 184.8542 - val_mae: 10.8163\n",
      "Epoch 53/100\n",
      "20/20 [==============================] - 0s 5ms/step - loss: 182.2203 - mae: 10.5740 - val_loss: 183.6834 - val_mae: 10.7847\n",
      "Epoch 54/100\n",
      "20/20 [==============================] - 0s 5ms/step - loss: 180.5508 - mae: 10.4766 - val_loss: 181.4921 - val_mae: 10.7271\n",
      "Epoch 55/100\n",
      "20/20 [==============================] - 0s 5ms/step - loss: 176.6397 - mae: 10.4128 - val_loss: 175.8625 - val_mae: 10.5838\n",
      "Epoch 56/100\n",
      "20/20 [==============================] - 0s 6ms/step - loss: 174.8589 - mae: 10.3619 - val_loss: 180.8685 - val_mae: 10.7307\n",
      "Epoch 57/100\n",
      "20/20 [==============================] - 0s 6ms/step - loss: 172.0514 - mae: 10.2320 - val_loss: 173.0504 - val_mae: 10.5229\n",
      "Epoch 58/100\n",
      "20/20 [==============================] - 0s 6ms/step - loss: 169.5703 - mae: 10.1512 - val_loss: 175.7230 - val_mae: 10.6048\n",
      "Epoch 59/100\n",
      "20/20 [==============================] - 0s 5ms/step - loss: 167.1022 - mae: 10.1178 - val_loss: 173.4760 - val_mae: 10.5508\n",
      "Epoch 60/100\n",
      "20/20 [==============================] - 0s 5ms/step - loss: 166.1889 - mae: 10.1257 - val_loss: 169.3750 - val_mae: 10.3998\n",
      "Epoch 61/100\n",
      "20/20 [==============================] - 0s 5ms/step - loss: 161.5287 - mae: 9.9306 - val_loss: 169.8910 - val_mae: 10.4469\n",
      "Epoch 62/100\n",
      "20/20 [==============================] - 0s 6ms/step - loss: 159.5927 - mae: 9.9045 - val_loss: 172.9111 - val_mae: 10.5289\n",
      "Epoch 63/100\n",
      "20/20 [==============================] - 0s 6ms/step - loss: 157.1353 - mae: 9.8146 - val_loss: 164.3944 - val_mae: 10.2859\n",
      "Epoch 64/100\n",
      "20/20 [==============================] - 0s 5ms/step - loss: 155.7076 - mae: 9.7915 - val_loss: 168.1527 - val_mae: 10.3966\n",
      "Epoch 65/100\n",
      "20/20 [==============================] - 0s 5ms/step - loss: 153.4566 - mae: 9.7080 - val_loss: 164.3525 - val_mae: 10.3009\n",
      "Epoch 66/100\n",
      "20/20 [==============================] - 0s 5ms/step - loss: 152.2141 - mae: 9.6109 - val_loss: 163.2721 - val_mae: 10.2571\n",
      "Epoch 67/100\n",
      "20/20 [==============================] - 0s 5ms/step - loss: 149.4728 - mae: 9.6055 - val_loss: 163.7733 - val_mae: 10.2605\n",
      "Epoch 68/100\n",
      "20/20 [==============================] - 0s 5ms/step - loss: 147.3751 - mae: 9.5568 - val_loss: 161.3840 - val_mae: 10.1948\n",
      "Epoch 69/100\n",
      "20/20 [==============================] - 0s 5ms/step - loss: 145.8748 - mae: 9.4567 - val_loss: 159.2980 - val_mae: 10.1248\n",
      "Epoch 70/100\n",
      "20/20 [==============================] - 0s 5ms/step - loss: 143.2811 - mae: 9.3922 - val_loss: 160.2130 - val_mae: 10.1508\n",
      "Epoch 71/100\n",
      "20/20 [==============================] - 0s 5ms/step - loss: 142.4908 - mae: 9.3594 - val_loss: 158.3503 - val_mae: 10.0992\n",
      "Epoch 72/100\n",
      "20/20 [==============================] - 0s 5ms/step - loss: 139.2210 - mae: 9.2405 - val_loss: 156.8230 - val_mae: 10.0764\n",
      "Epoch 73/100\n",
      "20/20 [==============================] - 0s 5ms/step - loss: 137.4223 - mae: 9.2084 - val_loss: 157.0583 - val_mae: 10.0867\n",
      "Epoch 74/100\n",
      "20/20 [==============================] - 0s 6ms/step - loss: 135.2026 - mae: 9.1174 - val_loss: 153.2136 - val_mae: 9.9072\n",
      "Epoch 75/100\n",
      "20/20 [==============================] - 0s 5ms/step - loss: 134.6419 - mae: 9.0988 - val_loss: 152.4716 - val_mae: 9.9460\n",
      "Epoch 76/100\n",
      "20/20 [==============================] - 0s 5ms/step - loss: 132.5836 - mae: 9.0495 - val_loss: 155.1922 - val_mae: 10.0519\n",
      "Epoch 77/100\n",
      "20/20 [==============================] - 0s 5ms/step - loss: 130.7021 - mae: 8.9843 - val_loss: 149.6067 - val_mae: 9.8151\n",
      "Epoch 78/100\n",
      "20/20 [==============================] - 0s 5ms/step - loss: 129.1612 - mae: 8.9764 - val_loss: 151.6147 - val_mae: 9.8946\n",
      "Epoch 79/100\n",
      "20/20 [==============================] - 0s 5ms/step - loss: 127.5239 - mae: 8.8410 - val_loss: 150.2737 - val_mae: 9.8598\n",
      "Epoch 80/100\n",
      "20/20 [==============================] - 0s 5ms/step - loss: 125.1533 - mae: 8.8204 - val_loss: 150.5724 - val_mae: 9.8752\n",
      "Epoch 81/100\n",
      "20/20 [==============================] - 0s 5ms/step - loss: 124.0358 - mae: 8.7500 - val_loss: 146.6655 - val_mae: 9.7508\n",
      "Epoch 82/100\n",
      "20/20 [==============================] - 0s 5ms/step - loss: 122.7167 - mae: 8.7155 - val_loss: 147.0006 - val_mae: 9.7071\n",
      "Epoch 83/100\n",
      "20/20 [==============================] - 0s 5ms/step - loss: 121.5314 - mae: 8.6612 - val_loss: 144.0693 - val_mae: 9.6798\n",
      "Epoch 84/100\n",
      "20/20 [==============================] - 0s 5ms/step - loss: 118.9659 - mae: 8.5915 - val_loss: 148.0369 - val_mae: 9.7693\n",
      "Epoch 85/100\n",
      "20/20 [==============================] - 0s 5ms/step - loss: 117.5260 - mae: 8.5196 - val_loss: 144.0932 - val_mae: 9.6508\n",
      "Epoch 86/100\n",
      "20/20 [==============================] - 0s 5ms/step - loss: 116.3967 - mae: 8.4894 - val_loss: 142.7523 - val_mae: 9.6418\n",
      "Epoch 87/100\n",
      "20/20 [==============================] - 0s 5ms/step - loss: 115.1507 - mae: 8.4590 - val_loss: 145.1414 - val_mae: 9.7044\n",
      "Epoch 88/100\n",
      "20/20 [==============================] - 0s 5ms/step - loss: 114.0937 - mae: 8.3843 - val_loss: 142.9084 - val_mae: 9.6049\n",
      "Epoch 89/100\n",
      "20/20 [==============================] - 0s 5ms/step - loss: 113.1186 - mae: 8.3779 - val_loss: 138.7968 - val_mae: 9.5226\n",
      "Epoch 90/100\n",
      "20/20 [==============================] - 0s 5ms/step - loss: 111.6172 - mae: 8.3256 - val_loss: 141.6309 - val_mae: 9.5646\n",
      "Epoch 91/100\n",
      "20/20 [==============================] - 0s 5ms/step - loss: 110.0280 - mae: 8.2565 - val_loss: 138.5957 - val_mae: 9.5047\n",
      "Epoch 92/100\n",
      "20/20 [==============================] - 0s 5ms/step - loss: 109.4312 - mae: 8.2178 - val_loss: 140.8154 - val_mae: 9.5607\n",
      "Epoch 93/100\n",
      "20/20 [==============================] - 0s 5ms/step - loss: 107.5393 - mae: 8.1528 - val_loss: 137.5796 - val_mae: 9.4490\n",
      "Epoch 94/100\n",
      "20/20 [==============================] - 0s 5ms/step - loss: 106.7967 - mae: 8.1498 - val_loss: 139.0984 - val_mae: 9.4995\n",
      "Epoch 95/100\n",
      "20/20 [==============================] - 0s 5ms/step - loss: 105.4151 - mae: 8.0676 - val_loss: 137.4464 - val_mae: 9.4757\n",
      "Epoch 96/100\n",
      "20/20 [==============================] - 0s 5ms/step - loss: 103.8139 - mae: 8.0125 - val_loss: 138.1757 - val_mae: 9.4691\n",
      "Epoch 97/100\n",
      "20/20 [==============================] - 0s 5ms/step - loss: 103.3619 - mae: 8.0021 - val_loss: 137.1777 - val_mae: 9.4535\n",
      "Epoch 98/100\n",
      "20/20 [==============================] - 0s 5ms/step - loss: 102.0708 - mae: 7.9387 - val_loss: 134.0462 - val_mae: 9.3331\n",
      "Epoch 99/100\n",
      "20/20 [==============================] - 0s 5ms/step - loss: 101.0021 - mae: 7.9073 - val_loss: 136.8610 - val_mae: 9.4168\n",
      "Epoch 100/100\n",
      "20/20 [==============================] - 0s 5ms/step - loss: 99.9886 - mae: 7.8508 - val_loss: 136.4895 - val_mae: 9.4254\n"
     ]
    }
   ],
   "source": [
    "hist=nn.fit(xtrain,ytrain,epochs=100,validation_split=0.2)"
   ]
  },
  {
   "cell_type": "markdown",
   "metadata": {},
   "source": [
    "### Plot the Learning Curve"
   ]
  },
  {
   "cell_type": "code",
   "execution_count": 107,
   "metadata": {},
   "outputs": [
    {
     "data": {
      "image/png": "[encoded data removed]",
      "text/plain": [
       "<Figure size 1600x800 with 1 Axes>"
      ]
     },
     "metadata": {},
     "output_type": "display_data"
    }
   ],
   "source": [
    "import matplotlib.pyplot as plt\n",
    "plt.figure(figsize=(16,8))\n",
    "plt.plot(hist.history['loss'], label='Train MSE')\n",
    "plt.plot(hist.history['val_loss'], label='Validation MSE')\n",
    "plt.xlabel('Epochs')\n",
    "plt.ylabel('MSE')\n",
    "plt.title('Learning Curve')\n",
    "plt.legend()\n",
    "plt.show()\n"
   ]
  },
  {
   "cell_type": "markdown",
   "metadata": {},
   "source": [
    "### Evaluate the Model"
   ]
  },
  {
   "cell_type": "code",
   "execution_count": 108,
   "metadata": {},
   "outputs": [
    {
     "name": "stdout",
     "output_type": "stream",
     "text": [
      "25/25 [==============================] - 0s 2ms/step - loss: 105.5698 - mae: 8.0957\n"
     ]
    },
    {
     "data": {
      "text/plain": [
       "[105.5698471069336, 8.095690727233887]"
      ]
     },
     "execution_count": 108,
     "metadata": {},
     "output_type": "execute_result"
    }
   ],
   "source": [
    "nn.evaluate(xtrain,ytrain)"
   ]
  },
  {
   "cell_type": "code",
   "execution_count": 109,
   "metadata": {},
   "outputs": [
    {
     "name": "stdout",
     "output_type": "stream",
     "text": [
      "7/7 [==============================] - 0s 3ms/step - loss: 133.9745 - mae: 9.2273\n"
     ]
    },
    {
     "data": {
      "text/plain": [
       "[133.97454833984375, 9.227258682250977]"
      ]
     },
     "execution_count": 109,
     "metadata": {},
     "output_type": "execute_result"
    }
   ],
   "source": [
    "nn.evaluate(xtest,ytest)"
   ]
  },
  {
   "cell_type": "markdown",
   "metadata": {},
   "source": [
    "### Predict train and test"
   ]
  },
  {
   "cell_type": "code",
   "execution_count": 110,
   "metadata": {},
   "outputs": [
    {
     "name": "stdout",
     "output_type": "stream",
     "text": [
      "25/25 [==============================] - 0s 2ms/step\n",
      "7/7 [==============================] - 0s 2ms/step\n"
     ]
    }
   ],
   "source": [
    "ypred_tr=nn.predict(xtrain)\n",
    "ypred_ts=nn.predict(xtest)"
   ]
  },
  {
   "cell_type": "code",
   "execution_count": 111,
   "metadata": {},
   "outputs": [
    {
     "data": {
      "text/plain": [
       "array([[314.7937  ],\n",
       "       [-14.109527],\n",
       "       [-99.206505],\n",
       "       [118.14845 ],\n",
       "       [149.42787 ]], dtype=float32)"
      ]
     },
     "execution_count": 111,
     "metadata": {},
     "output_type": "execute_result"
    }
   ],
   "source": [
    "ypred_tr[0:5]"
   ]
  },
  {
   "cell_type": "code",
   "execution_count": 112,
   "metadata": {},
   "outputs": [
    {
     "data": {
      "text/html": [
       "<div>\n",
       "<style scoped>\n",
       "    .dataframe tbody tr th:only-of-type {\n",
       "        vertical-align: middle;\n",
       "    }\n",
       "\n",
       "    .dataframe tbody tr th {\n",
       "        vertical-align: top;\n",
       "    }\n",
       "\n",
       "    .dataframe thead th {\n",
       "        text-align: right;\n",
       "    }\n",
       "</style>\n",
       "<table border=\"1\" class=\"dataframe\">\n",
       "  <thead>\n",
       "    <tr style=\"text-align: right;\">\n",
       "      <th></th>\n",
       "      <th>Y</th>\n",
       "    </tr>\n",
       "  </thead>\n",
       "  <tbody>\n",
       "    <tr>\n",
       "      <th>970</th>\n",
       "      <td>313.249294</td>\n",
       "    </tr>\n",
       "    <tr>\n",
       "      <th>137</th>\n",
       "      <td>-11.449286</td>\n",
       "    </tr>\n",
       "    <tr>\n",
       "      <th>82</th>\n",
       "      <td>-87.826604</td>\n",
       "    </tr>\n",
       "    <tr>\n",
       "      <th>188</th>\n",
       "      <td>110.397575</td>\n",
       "    </tr>\n",
       "    <tr>\n",
       "      <th>358</th>\n",
       "      <td>146.226667</td>\n",
       "    </tr>\n",
       "  </tbody>\n",
       "</table>\n",
       "</div>"
      ],
      "text/plain": [
       "              Y\n",
       "970  313.249294\n",
       "137  -11.449286\n",
       "82   -87.826604\n",
       "188  110.397575\n",
       "358  146.226667"
      ]
     },
     "execution_count": 112,
     "metadata": {},
     "output_type": "execute_result"
    }
   ],
   "source": [
    "ytrain.head()"
   ]
  },
  {
   "cell_type": "code",
   "execution_count": 113,
   "metadata": {},
   "outputs": [
    {
     "data": {
      "text/plain": [
       "array([[ 141.84569],\n",
       "       [-146.52357],\n",
       "       [ -48.02414],\n",
       "       [  48.11269],\n",
       "       [-136.19743]], dtype=float32)"
      ]
     },
     "execution_count": 113,
     "metadata": {},
     "output_type": "execute_result"
    }
   ],
   "source": [
    "ypred_ts[0:5]"
   ]
  },
  {
   "cell_type": "code",
   "execution_count": 114,
   "metadata": {},
   "outputs": [
    {
     "data": {
      "text/html": [
       "<div>\n",
       "<style scoped>\n",
       "    .dataframe tbody tr th:only-of-type {\n",
       "        vertical-align: middle;\n",
       "    }\n",
       "\n",
       "    .dataframe tbody tr th {\n",
       "        vertical-align: top;\n",
       "    }\n",
       "\n",
       "    .dataframe thead th {\n",
       "        text-align: right;\n",
       "    }\n",
       "</style>\n",
       "<table border=\"1\" class=\"dataframe\">\n",
       "  <thead>\n",
       "    <tr style=\"text-align: right;\">\n",
       "      <th></th>\n",
       "      <th>Y</th>\n",
       "    </tr>\n",
       "  </thead>\n",
       "  <tbody>\n",
       "    <tr>\n",
       "      <th>204</th>\n",
       "      <td>117.280207</td>\n",
       "    </tr>\n",
       "    <tr>\n",
       "      <th>71</th>\n",
       "      <td>-139.344199</td>\n",
       "    </tr>\n",
       "    <tr>\n",
       "      <th>594</th>\n",
       "      <td>-52.200451</td>\n",
       "    </tr>\n",
       "    <tr>\n",
       "      <th>672</th>\n",
       "      <td>39.797586</td>\n",
       "    </tr>\n",
       "    <tr>\n",
       "      <th>14</th>\n",
       "      <td>-131.040234</td>\n",
       "    </tr>\n",
       "  </tbody>\n",
       "</table>\n",
       "</div>"
      ],
      "text/plain": [
       "              Y\n",
       "204  117.280207\n",
       "71  -139.344199\n",
       "594  -52.200451\n",
       "672   39.797586\n",
       "14  -131.040234"
      ]
     },
     "execution_count": 114,
     "metadata": {},
     "output_type": "execute_result"
    }
   ],
   "source": [
    "ytest.head()"
   ]
  },
  {
   "cell_type": "markdown",
   "metadata": {},
   "source": [
    "### R2 scores in train and test"
   ]
  },
  {
   "cell_type": "code",
   "execution_count": 115,
   "metadata": {},
   "outputs": [
    {
     "data": {
      "text/plain": [
       "0.9954973910117844"
      ]
     },
     "execution_count": 115,
     "metadata": {},
     "output_type": "execute_result"
    }
   ],
   "source": [
    "from sklearn.metrics import r2_score\n",
    "tr_r2 = r2_score(ytrain, ypred_tr)\n",
    "tr_r2"
   ]
  },
  {
   "cell_type": "code",
   "execution_count": 116,
   "metadata": {},
   "outputs": [
    {
     "data": {
      "text/plain": [
       "0.9930919977744437"
      ]
     },
     "execution_count": 116,
     "metadata": {},
     "output_type": "execute_result"
    }
   ],
   "source": [
    "ts_r2 = r2_score(ytest, ypred_ts)\n",
    "ts_r2"
   ]
  },
  {
   "cell_type": "markdown",
   "metadata": {},
   "source": [
    "### Save the model for future reference"
   ]
  },
  {
   "cell_type": "code",
   "execution_count": 117,
   "metadata": {},
   "outputs": [],
   "source": [
    "nn.save('RegessionModel.keras')"
   ]
  },
  {
   "cell_type": "markdown",
   "metadata": {},
   "source": [
    "### Load the model back"
   ]
  },
  {
   "cell_type": "code",
   "execution_count": 118,
   "metadata": {},
   "outputs": [],
   "source": [
    "from keras.models import load_model\n",
    "model = load_model('RegessionModel.keras')"
   ]
  },
  {
   "cell_type": "code",
   "execution_count": 119,
   "metadata": {},
   "outputs": [
    {
     "name": "stdout",
     "output_type": "stream",
     "text": [
      "Model: \"sequential_2\"\n",
      "_________________________________________________________________\n",
      " Layer (type)                Output Shape              Param #   \n",
      "=================================================================\n",
      " dense_6 (Dense)             (None, 64)                704       \n",
      "                                                                 \n",
      " dense_7 (Dense)             (None, 32)                2080      \n",
      "                                                                 \n",
      " dense_8 (Dense)             (None, 1)                 33        \n",
      "                                                                 \n",
      "=================================================================\n",
      "Total params: 2817 (11.00 KB)\n",
      "Trainable params: 2817 (11.00 KB)\n",
      "Non-trainable params: 0 (0.00 Byte)\n",
      "_________________________________________________________________\n"
     ]
    }
   ],
   "source": [
    "model.summary()"
   ]
  },
  {
   "cell_type": "code",
   "execution_count": null,
   "metadata": {},
   "outputs": [],
   "source": []
  }
 ],
 "metadata": {
  "kernelspec": {
   "display_name": "venv",
   "language": "python",
   "name": "python3"
  },
  "language_info": {
   "codemirror_mode": {
    "name": "ipython",
    "version": 3
   },
   "file_extension": ".py",
   "mimetype": "text/x-python",
   "name": "python",
   "nbconvert_exporter": "python",
   "pygments_lexer": "ipython3",
   "version": "3.11.6"
  }
 },
 "nbformat": 4,
 "nbformat_minor": 2
}
