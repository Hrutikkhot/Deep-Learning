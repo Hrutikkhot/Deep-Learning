{
 "cells": [
  {
   "cell_type": "markdown",
   "metadata": {},
   "source": [
    "## MultiClass Classification on (Iris Data set)"
   ]
  },
  {
   "cell_type": "code",
   "execution_count": 25,
   "metadata": {},
   "outputs": [],
   "source": [
    "from warnings import filterwarnings\n",
    "filterwarnings(\"ignore\")"
   ]
  },
  {
   "cell_type": "markdown",
   "metadata": {},
   "source": [
    "### Read the data Set"
   ]
  },
  {
   "cell_type": "code",
   "execution_count": 26,
   "metadata": {},
   "outputs": [
    {
     "data": {
      "text/html": [
       "<div>\n",
       "<style scoped>\n",
       "    .dataframe tbody tr th:only-of-type {\n",
       "        vertical-align: middle;\n",
       "    }\n",
       "\n",
       "    .dataframe tbody tr th {\n",
       "        vertical-align: top;\n",
       "    }\n",
       "\n",
       "    .dataframe thead th {\n",
       "        text-align: right;\n",
       "    }\n",
       "</style>\n",
       "<table border=\"1\" class=\"dataframe\">\n",
       "  <thead>\n",
       "    <tr style=\"text-align: right;\">\n",
       "      <th></th>\n",
       "      <th>sepal_length</th>\n",
       "      <th>sepal_width</th>\n",
       "      <th>petal_length</th>\n",
       "      <th>petal_width</th>\n",
       "      <th>species</th>\n",
       "    </tr>\n",
       "  </thead>\n",
       "  <tbody>\n",
       "    <tr>\n",
       "      <th>0</th>\n",
       "      <td>5.1</td>\n",
       "      <td>3.5</td>\n",
       "      <td>1.4</td>\n",
       "      <td>0.2</td>\n",
       "      <td>setosa</td>\n",
       "    </tr>\n",
       "    <tr>\n",
       "      <th>1</th>\n",
       "      <td>4.9</td>\n",
       "      <td>3.0</td>\n",
       "      <td>1.4</td>\n",
       "      <td>0.2</td>\n",
       "      <td>setosa</td>\n",
       "    </tr>\n",
       "    <tr>\n",
       "      <th>2</th>\n",
       "      <td>4.7</td>\n",
       "      <td>3.2</td>\n",
       "      <td>1.3</td>\n",
       "      <td>0.2</td>\n",
       "      <td>setosa</td>\n",
       "    </tr>\n",
       "    <tr>\n",
       "      <th>3</th>\n",
       "      <td>4.6</td>\n",
       "      <td>3.1</td>\n",
       "      <td>1.5</td>\n",
       "      <td>0.2</td>\n",
       "      <td>setosa</td>\n",
       "    </tr>\n",
       "    <tr>\n",
       "      <th>4</th>\n",
       "      <td>5.0</td>\n",
       "      <td>3.6</td>\n",
       "      <td>1.4</td>\n",
       "      <td>0.2</td>\n",
       "      <td>setosa</td>\n",
       "    </tr>\n",
       "  </tbody>\n",
       "</table>\n",
       "</div>"
      ],
      "text/plain": [
       "   sepal_length  sepal_width  petal_length  petal_width species\n",
       "0           5.1          3.5           1.4          0.2  setosa\n",
       "1           4.9          3.0           1.4          0.2  setosa\n",
       "2           4.7          3.2           1.3          0.2  setosa\n",
       "3           4.6          3.1           1.5          0.2  setosa\n",
       "4           5.0          3.6           1.4          0.2  setosa"
      ]
     },
     "execution_count": 26,
     "metadata": {},
     "output_type": "execute_result"
    }
   ],
   "source": [
    "import pandas as pd\n",
    "df=pd.read_csv(\"iris (1).csv\")\n",
    "df.head()"
   ]
  },
  {
   "cell_type": "code",
   "execution_count": 27,
   "metadata": {},
   "outputs": [
    {
     "name": "stdout",
     "output_type": "stream",
     "text": [
      "<class 'pandas.core.frame.DataFrame'>\n",
      "RangeIndex: 150 entries, 0 to 149\n",
      "Data columns (total 5 columns):\n",
      " #   Column        Non-Null Count  Dtype  \n",
      "---  ------        --------------  -----  \n",
      " 0   sepal_length  150 non-null    float64\n",
      " 1   sepal_width   150 non-null    float64\n",
      " 2   petal_length  150 non-null    float64\n",
      " 3   petal_width   150 non-null    float64\n",
      " 4   species       150 non-null    object \n",
      "dtypes: float64(4), object(1)\n",
      "memory usage: 6.0+ KB\n"
     ]
    }
   ],
   "source": [
    "df.info()"
   ]
  },
  {
   "cell_type": "markdown",
   "metadata": {},
   "source": [
    "### Check the missing values and null values"
   ]
  },
  {
   "cell_type": "code",
   "execution_count": 28,
   "metadata": {},
   "outputs": [
    {
     "data": {
      "text/plain": [
       "sepal_length    0\n",
       "sepal_width     0\n",
       "petal_length    0\n",
       "petal_width     0\n",
       "species         0\n",
       "dtype: int64"
      ]
     },
     "execution_count": 28,
     "metadata": {},
     "output_type": "execute_result"
    }
   ],
   "source": [
    "df.isna().sum()"
   ]
  },
  {
   "cell_type": "markdown",
   "metadata": {},
   "source": [
    "### seperate X and Y"
   ]
  },
  {
   "cell_type": "code",
   "execution_count": 29,
   "metadata": {},
   "outputs": [],
   "source": [
    "x=df.drop(columns=[\"species\"])\n",
    "y=df[[\"species\"]]"
   ]
  },
  {
   "cell_type": "code",
   "execution_count": 30,
   "metadata": {},
   "outputs": [
    {
     "data": {
      "text/html": [
       "<div>\n",
       "<style scoped>\n",
       "    .dataframe tbody tr th:only-of-type {\n",
       "        vertical-align: middle;\n",
       "    }\n",
       "\n",
       "    .dataframe tbody tr th {\n",
       "        vertical-align: top;\n",
       "    }\n",
       "\n",
       "    .dataframe thead th {\n",
       "        text-align: right;\n",
       "    }\n",
       "</style>\n",
       "<table border=\"1\" class=\"dataframe\">\n",
       "  <thead>\n",
       "    <tr style=\"text-align: right;\">\n",
       "      <th></th>\n",
       "      <th>sepal_length</th>\n",
       "      <th>sepal_width</th>\n",
       "      <th>petal_length</th>\n",
       "      <th>petal_width</th>\n",
       "    </tr>\n",
       "  </thead>\n",
       "  <tbody>\n",
       "    <tr>\n",
       "      <th>0</th>\n",
       "      <td>5.1</td>\n",
       "      <td>3.5</td>\n",
       "      <td>1.4</td>\n",
       "      <td>0.2</td>\n",
       "    </tr>\n",
       "    <tr>\n",
       "      <th>1</th>\n",
       "      <td>4.9</td>\n",
       "      <td>3.0</td>\n",
       "      <td>1.4</td>\n",
       "      <td>0.2</td>\n",
       "    </tr>\n",
       "    <tr>\n",
       "      <th>2</th>\n",
       "      <td>4.7</td>\n",
       "      <td>3.2</td>\n",
       "      <td>1.3</td>\n",
       "      <td>0.2</td>\n",
       "    </tr>\n",
       "    <tr>\n",
       "      <th>3</th>\n",
       "      <td>4.6</td>\n",
       "      <td>3.1</td>\n",
       "      <td>1.5</td>\n",
       "      <td>0.2</td>\n",
       "    </tr>\n",
       "    <tr>\n",
       "      <th>4</th>\n",
       "      <td>5.0</td>\n",
       "      <td>3.6</td>\n",
       "      <td>1.4</td>\n",
       "      <td>0.2</td>\n",
       "    </tr>\n",
       "  </tbody>\n",
       "</table>\n",
       "</div>"
      ],
      "text/plain": [
       "   sepal_length  sepal_width  petal_length  petal_width\n",
       "0           5.1          3.5           1.4          0.2\n",
       "1           4.9          3.0           1.4          0.2\n",
       "2           4.7          3.2           1.3          0.2\n",
       "3           4.6          3.1           1.5          0.2\n",
       "4           5.0          3.6           1.4          0.2"
      ]
     },
     "execution_count": 30,
     "metadata": {},
     "output_type": "execute_result"
    }
   ],
   "source": [
    "x.head()"
   ]
  },
  {
   "cell_type": "code",
   "execution_count": 31,
   "metadata": {},
   "outputs": [
    {
     "data": {
      "text/html": [
       "<div>\n",
       "<style scoped>\n",
       "    .dataframe tbody tr th:only-of-type {\n",
       "        vertical-align: middle;\n",
       "    }\n",
       "\n",
       "    .dataframe tbody tr th {\n",
       "        vertical-align: top;\n",
       "    }\n",
       "\n",
       "    .dataframe thead th {\n",
       "        text-align: right;\n",
       "    }\n",
       "</style>\n",
       "<table border=\"1\" class=\"dataframe\">\n",
       "  <thead>\n",
       "    <tr style=\"text-align: right;\">\n",
       "      <th></th>\n",
       "      <th>species</th>\n",
       "    </tr>\n",
       "  </thead>\n",
       "  <tbody>\n",
       "    <tr>\n",
       "      <th>0</th>\n",
       "      <td>setosa</td>\n",
       "    </tr>\n",
       "    <tr>\n",
       "      <th>1</th>\n",
       "      <td>setosa</td>\n",
       "    </tr>\n",
       "    <tr>\n",
       "      <th>2</th>\n",
       "      <td>setosa</td>\n",
       "    </tr>\n",
       "    <tr>\n",
       "      <th>3</th>\n",
       "      <td>setosa</td>\n",
       "    </tr>\n",
       "    <tr>\n",
       "      <th>4</th>\n",
       "      <td>setosa</td>\n",
       "    </tr>\n",
       "  </tbody>\n",
       "</table>\n",
       "</div>"
      ],
      "text/plain": [
       "  species\n",
       "0  setosa\n",
       "1  setosa\n",
       "2  setosa\n",
       "3  setosa\n",
       "4  setosa"
      ]
     },
     "execution_count": 31,
     "metadata": {},
     "output_type": "execute_result"
    }
   ],
   "source": [
    "y.head()"
   ]
  },
  {
   "cell_type": "code",
   "execution_count": 32,
   "metadata": {},
   "outputs": [],
   "source": [
    "import numpy as np"
   ]
  },
  {
   "cell_type": "code",
   "execution_count": 33,
   "metadata": {},
   "outputs": [
    {
     "data": {
      "text/plain": [
       "array(['setosa', 'versicolor', 'virginica'], dtype=object)"
      ]
     },
     "execution_count": 33,
     "metadata": {},
     "output_type": "execute_result"
    }
   ],
   "source": [
    "np.unique(y)"
   ]
  },
  {
   "cell_type": "markdown",
   "metadata": {},
   "source": [
    "### Preprocessing for Y"
   ]
  },
  {
   "cell_type": "code",
   "execution_count": 42,
   "metadata": {},
   "outputs": [
    {
     "data": {
      "text/html": [
       "<div>\n",
       "<style scoped>\n",
       "    .dataframe tbody tr th:only-of-type {\n",
       "        vertical-align: middle;\n",
       "    }\n",
       "\n",
       "    .dataframe tbody tr th {\n",
       "        vertical-align: top;\n",
       "    }\n",
       "\n",
       "    .dataframe thead th {\n",
       "        text-align: right;\n",
       "    }\n",
       "</style>\n",
       "<table border=\"1\" class=\"dataframe\">\n",
       "  <thead>\n",
       "    <tr style=\"text-align: right;\">\n",
       "      <th></th>\n",
       "      <th>species_setosa</th>\n",
       "      <th>species_versicolor</th>\n",
       "      <th>species_virginica</th>\n",
       "    </tr>\n",
       "  </thead>\n",
       "  <tbody>\n",
       "    <tr>\n",
       "      <th>0</th>\n",
       "      <td>True</td>\n",
       "      <td>False</td>\n",
       "      <td>False</td>\n",
       "    </tr>\n",
       "    <tr>\n",
       "      <th>1</th>\n",
       "      <td>True</td>\n",
       "      <td>False</td>\n",
       "      <td>False</td>\n",
       "    </tr>\n",
       "    <tr>\n",
       "      <th>2</th>\n",
       "      <td>True</td>\n",
       "      <td>False</td>\n",
       "      <td>False</td>\n",
       "    </tr>\n",
       "    <tr>\n",
       "      <th>3</th>\n",
       "      <td>True</td>\n",
       "      <td>False</td>\n",
       "      <td>False</td>\n",
       "    </tr>\n",
       "    <tr>\n",
       "      <th>4</th>\n",
       "      <td>True</td>\n",
       "      <td>False</td>\n",
       "      <td>False</td>\n",
       "    </tr>\n",
       "    <tr>\n",
       "      <th>...</th>\n",
       "      <td>...</td>\n",
       "      <td>...</td>\n",
       "      <td>...</td>\n",
       "    </tr>\n",
       "    <tr>\n",
       "      <th>145</th>\n",
       "      <td>False</td>\n",
       "      <td>False</td>\n",
       "      <td>True</td>\n",
       "    </tr>\n",
       "    <tr>\n",
       "      <th>146</th>\n",
       "      <td>False</td>\n",
       "      <td>False</td>\n",
       "      <td>True</td>\n",
       "    </tr>\n",
       "    <tr>\n",
       "      <th>147</th>\n",
       "      <td>False</td>\n",
       "      <td>False</td>\n",
       "      <td>True</td>\n",
       "    </tr>\n",
       "    <tr>\n",
       "      <th>148</th>\n",
       "      <td>False</td>\n",
       "      <td>False</td>\n",
       "      <td>True</td>\n",
       "    </tr>\n",
       "    <tr>\n",
       "      <th>149</th>\n",
       "      <td>False</td>\n",
       "      <td>False</td>\n",
       "      <td>True</td>\n",
       "    </tr>\n",
       "  </tbody>\n",
       "</table>\n",
       "<p>150 rows × 3 columns</p>\n",
       "</div>"
      ],
      "text/plain": [
       "     species_setosa  species_versicolor  species_virginica\n",
       "0              True               False              False\n",
       "1              True               False              False\n",
       "2              True               False              False\n",
       "3              True               False              False\n",
       "4              True               False              False\n",
       "..              ...                 ...                ...\n",
       "145           False               False               True\n",
       "146           False               False               True\n",
       "147           False               False               True\n",
       "148           False               False               True\n",
       "149           False               False               True\n",
       "\n",
       "[150 rows x 3 columns]"
      ]
     },
     "execution_count": 42,
     "metadata": {},
     "output_type": "execute_result"
    }
   ],
   "source": [
    "Y_encoded=pd.get_dummies(y,columns=[\"species\"])\n",
    "Y_encoded"
   ]
  },
  {
   "cell_type": "markdown",
   "metadata": {},
   "source": [
    "### Create a Preprocessing pipeline for X"
   ]
  },
  {
   "cell_type": "code",
   "execution_count": 44,
   "metadata": {},
   "outputs": [],
   "source": [
    "from sklearn.pipeline import Pipeline\n",
    "from sklearn.impute import SimpleImputer\n",
    "from sklearn.preprocessing import StandardScaler"
   ]
  },
  {
   "cell_type": "code",
   "execution_count": 45,
   "metadata": {},
   "outputs": [],
   "source": [
    "\n",
    "num_pipeline=Pipeline(steps=[(\"impute\",SimpleImputer(strategy=\"median\")),\n",
    "                             (\"scaler\",StandardScaler())])"
   ]
  },
  {
   "cell_type": "code",
   "execution_count": 47,
   "metadata": {},
   "outputs": [
    {
     "data": {
      "text/plain": [
       "array([[-9.00681170e-01,  1.01900435e+00, -1.34022653e+00,\n",
       "        -1.31544430e+00],\n",
       "       [-1.14301691e+00, -1.31979479e-01, -1.34022653e+00,\n",
       "        -1.31544430e+00],\n",
       "       [-1.38535265e+00,  3.28414053e-01, -1.39706395e+00,\n",
       "        -1.31544430e+00],\n",
       "       [-1.50652052e+00,  9.82172869e-02, -1.28338910e+00,\n",
       "        -1.31544430e+00],\n",
       "       [-1.02184904e+00,  1.24920112e+00, -1.34022653e+00,\n",
       "        -1.31544430e+00],\n",
       "       [-5.37177559e-01,  1.93979142e+00, -1.16971425e+00,\n",
       "        -1.05217993e+00],\n",
       "       [-1.50652052e+00,  7.88807586e-01, -1.34022653e+00,\n",
       "        -1.18381211e+00],\n",
       "       [-1.02184904e+00,  7.88807586e-01, -1.28338910e+00,\n",
       "        -1.31544430e+00],\n",
       "       [-1.74885626e+00, -3.62176246e-01, -1.34022653e+00,\n",
       "        -1.31544430e+00],\n",
       "       [-1.14301691e+00,  9.82172869e-02, -1.28338910e+00,\n",
       "        -1.44707648e+00],\n",
       "       [-5.37177559e-01,  1.47939788e+00, -1.28338910e+00,\n",
       "        -1.31544430e+00],\n",
       "       [-1.26418478e+00,  7.88807586e-01, -1.22655167e+00,\n",
       "        -1.31544430e+00],\n",
       "       [-1.26418478e+00, -1.31979479e-01, -1.34022653e+00,\n",
       "        -1.44707648e+00],\n",
       "       [-1.87002413e+00, -1.31979479e-01, -1.51073881e+00,\n",
       "        -1.44707648e+00],\n",
       "       [-5.25060772e-02,  2.16998818e+00, -1.45390138e+00,\n",
       "        -1.31544430e+00],\n",
       "       [-1.73673948e-01,  3.09077525e+00, -1.28338910e+00,\n",
       "        -1.05217993e+00],\n",
       "       [-5.37177559e-01,  1.93979142e+00, -1.39706395e+00,\n",
       "        -1.05217993e+00],\n",
       "       [-9.00681170e-01,  1.01900435e+00, -1.34022653e+00,\n",
       "        -1.18381211e+00],\n",
       "       [-1.73673948e-01,  1.70959465e+00, -1.16971425e+00,\n",
       "        -1.18381211e+00],\n",
       "       [-9.00681170e-01,  1.70959465e+00, -1.28338910e+00,\n",
       "        -1.18381211e+00],\n",
       "       [-5.37177559e-01,  7.88807586e-01, -1.16971425e+00,\n",
       "        -1.31544430e+00],\n",
       "       [-9.00681170e-01,  1.47939788e+00, -1.28338910e+00,\n",
       "        -1.05217993e+00],\n",
       "       [-1.50652052e+00,  1.24920112e+00, -1.56757623e+00,\n",
       "        -1.31544430e+00],\n",
       "       [-9.00681170e-01,  5.58610819e-01, -1.16971425e+00,\n",
       "        -9.20547742e-01],\n",
       "       [-1.26418478e+00,  7.88807586e-01, -1.05603939e+00,\n",
       "        -1.31544430e+00],\n",
       "       [-1.02184904e+00, -1.31979479e-01, -1.22655167e+00,\n",
       "        -1.31544430e+00],\n",
       "       [-1.02184904e+00,  7.88807586e-01, -1.22655167e+00,\n",
       "        -1.05217993e+00],\n",
       "       [-7.79513300e-01,  1.01900435e+00, -1.28338910e+00,\n",
       "        -1.31544430e+00],\n",
       "       [-7.79513300e-01,  7.88807586e-01, -1.34022653e+00,\n",
       "        -1.31544430e+00],\n",
       "       [-1.38535265e+00,  3.28414053e-01, -1.22655167e+00,\n",
       "        -1.31544430e+00],\n",
       "       [-1.26418478e+00,  9.82172869e-02, -1.22655167e+00,\n",
       "        -1.31544430e+00],\n",
       "       [-5.37177559e-01,  7.88807586e-01, -1.28338910e+00,\n",
       "        -1.05217993e+00],\n",
       "       [-7.79513300e-01,  2.40018495e+00, -1.28338910e+00,\n",
       "        -1.44707648e+00],\n",
       "       [-4.16009689e-01,  2.63038172e+00, -1.34022653e+00,\n",
       "        -1.31544430e+00],\n",
       "       [-1.14301691e+00,  9.82172869e-02, -1.28338910e+00,\n",
       "        -1.31544430e+00],\n",
       "       [-1.02184904e+00,  3.28414053e-01, -1.45390138e+00,\n",
       "        -1.31544430e+00],\n",
       "       [-4.16009689e-01,  1.01900435e+00, -1.39706395e+00,\n",
       "        -1.31544430e+00],\n",
       "       [-1.14301691e+00,  1.24920112e+00, -1.34022653e+00,\n",
       "        -1.44707648e+00],\n",
       "       [-1.74885626e+00, -1.31979479e-01, -1.39706395e+00,\n",
       "        -1.31544430e+00],\n",
       "       [-9.00681170e-01,  7.88807586e-01, -1.28338910e+00,\n",
       "        -1.31544430e+00],\n",
       "       [-1.02184904e+00,  1.01900435e+00, -1.39706395e+00,\n",
       "        -1.18381211e+00],\n",
       "       [-1.62768839e+00, -1.74335684e+00, -1.39706395e+00,\n",
       "        -1.18381211e+00],\n",
       "       [-1.74885626e+00,  3.28414053e-01, -1.39706395e+00,\n",
       "        -1.31544430e+00],\n",
       "       [-1.02184904e+00,  1.01900435e+00, -1.22655167e+00,\n",
       "        -7.88915558e-01],\n",
       "       [-9.00681170e-01,  1.70959465e+00, -1.05603939e+00,\n",
       "        -1.05217993e+00],\n",
       "       [-1.26418478e+00, -1.31979479e-01, -1.34022653e+00,\n",
       "        -1.18381211e+00],\n",
       "       [-9.00681170e-01,  1.70959465e+00, -1.22655167e+00,\n",
       "        -1.31544430e+00],\n",
       "       [-1.50652052e+00,  3.28414053e-01, -1.34022653e+00,\n",
       "        -1.31544430e+00],\n",
       "       [-6.58345429e-01,  1.47939788e+00, -1.28338910e+00,\n",
       "        -1.31544430e+00],\n",
       "       [-1.02184904e+00,  5.58610819e-01, -1.34022653e+00,\n",
       "        -1.31544430e+00],\n",
       "       [ 1.40150837e+00,  3.28414053e-01,  5.35408562e-01,\n",
       "         2.64141916e-01],\n",
       "       [ 6.74501145e-01,  3.28414053e-01,  4.21733708e-01,\n",
       "         3.95774101e-01],\n",
       "       [ 1.28034050e+00,  9.82172869e-02,  6.49083415e-01,\n",
       "         3.95774101e-01],\n",
       "       [-4.16009689e-01, -1.74335684e+00,  1.37546573e-01,\n",
       "         1.32509732e-01],\n",
       "       [ 7.95669016e-01, -5.92373012e-01,  4.78571135e-01,\n",
       "         3.95774101e-01],\n",
       "       [-1.73673948e-01, -5.92373012e-01,  4.21733708e-01,\n",
       "         1.32509732e-01],\n",
       "       [ 5.53333275e-01,  5.58610819e-01,  5.35408562e-01,\n",
       "         5.27406285e-01],\n",
       "       [-1.14301691e+00, -1.51316008e+00, -2.60315415e-01,\n",
       "        -2.62386821e-01],\n",
       "       [ 9.16836886e-01, -3.62176246e-01,  4.78571135e-01,\n",
       "         1.32509732e-01],\n",
       "       [-7.79513300e-01, -8.22569778e-01,  8.07091462e-02,\n",
       "         2.64141916e-01],\n",
       "       [-1.02184904e+00, -2.43394714e+00, -1.46640561e-01,\n",
       "        -2.62386821e-01],\n",
       "       [ 6.86617933e-02, -1.31979479e-01,  2.51221427e-01,\n",
       "         3.95774101e-01],\n",
       "       [ 1.89829664e-01, -1.97355361e+00,  1.37546573e-01,\n",
       "        -2.62386821e-01],\n",
       "       [ 3.10997534e-01, -3.62176246e-01,  5.35408562e-01,\n",
       "         2.64141916e-01],\n",
       "       [-2.94841818e-01, -3.62176246e-01, -8.98031345e-02,\n",
       "         1.32509732e-01],\n",
       "       [ 1.03800476e+00,  9.82172869e-02,  3.64896281e-01,\n",
       "         2.64141916e-01],\n",
       "       [-2.94841818e-01, -1.31979479e-01,  4.21733708e-01,\n",
       "         3.95774101e-01],\n",
       "       [-5.25060772e-02, -8.22569778e-01,  1.94384000e-01,\n",
       "        -2.62386821e-01],\n",
       "       [ 4.32165405e-01, -1.97355361e+00,  4.21733708e-01,\n",
       "         3.95774101e-01],\n",
       "       [-2.94841818e-01, -1.28296331e+00,  8.07091462e-02,\n",
       "        -1.30754636e-01],\n",
       "       [ 6.86617933e-02,  3.28414053e-01,  5.92245988e-01,\n",
       "         7.90670654e-01],\n",
       "       [ 3.10997534e-01, -5.92373012e-01,  1.37546573e-01,\n",
       "         1.32509732e-01],\n",
       "       [ 5.53333275e-01, -1.28296331e+00,  6.49083415e-01,\n",
       "         3.95774101e-01],\n",
       "       [ 3.10997534e-01, -5.92373012e-01,  5.35408562e-01,\n",
       "         8.77547895e-04],\n",
       "       [ 6.74501145e-01, -3.62176246e-01,  3.08058854e-01,\n",
       "         1.32509732e-01],\n",
       "       [ 9.16836886e-01, -1.31979479e-01,  3.64896281e-01,\n",
       "         2.64141916e-01],\n",
       "       [ 1.15917263e+00, -5.92373012e-01,  5.92245988e-01,\n",
       "         2.64141916e-01],\n",
       "       [ 1.03800476e+00, -1.31979479e-01,  7.05920842e-01,\n",
       "         6.59038469e-01],\n",
       "       [ 1.89829664e-01, -3.62176246e-01,  4.21733708e-01,\n",
       "         3.95774101e-01],\n",
       "       [-1.73673948e-01, -1.05276654e+00, -1.46640561e-01,\n",
       "        -2.62386821e-01],\n",
       "       [-4.16009689e-01, -1.51316008e+00,  2.38717193e-02,\n",
       "        -1.30754636e-01],\n",
       "       [-4.16009689e-01, -1.51316008e+00, -3.29657076e-02,\n",
       "        -2.62386821e-01],\n",
       "       [-5.25060772e-02, -8.22569778e-01,  8.07091462e-02,\n",
       "         8.77547895e-04],\n",
       "       [ 1.89829664e-01, -8.22569778e-01,  7.62758269e-01,\n",
       "         5.27406285e-01],\n",
       "       [-5.37177559e-01, -1.31979479e-01,  4.21733708e-01,\n",
       "         3.95774101e-01],\n",
       "       [ 1.89829664e-01,  7.88807586e-01,  4.21733708e-01,\n",
       "         5.27406285e-01],\n",
       "       [ 1.03800476e+00,  9.82172869e-02,  5.35408562e-01,\n",
       "         3.95774101e-01],\n",
       "       [ 5.53333275e-01, -1.74335684e+00,  3.64896281e-01,\n",
       "         1.32509732e-01],\n",
       "       [-2.94841818e-01, -1.31979479e-01,  1.94384000e-01,\n",
       "         1.32509732e-01],\n",
       "       [-4.16009689e-01, -1.28296331e+00,  1.37546573e-01,\n",
       "         1.32509732e-01],\n",
       "       [-4.16009689e-01, -1.05276654e+00,  3.64896281e-01,\n",
       "         8.77547895e-04],\n",
       "       [ 3.10997534e-01, -1.31979479e-01,  4.78571135e-01,\n",
       "         2.64141916e-01],\n",
       "       [-5.25060772e-02, -1.05276654e+00,  1.37546573e-01,\n",
       "         8.77547895e-04],\n",
       "       [-1.02184904e+00, -1.74335684e+00, -2.60315415e-01,\n",
       "        -2.62386821e-01],\n",
       "       [-2.94841818e-01, -8.22569778e-01,  2.51221427e-01,\n",
       "         1.32509732e-01],\n",
       "       [-1.73673948e-01, -1.31979479e-01,  2.51221427e-01,\n",
       "         8.77547895e-04],\n",
       "       [-1.73673948e-01, -3.62176246e-01,  2.51221427e-01,\n",
       "         1.32509732e-01],\n",
       "       [ 4.32165405e-01, -3.62176246e-01,  3.08058854e-01,\n",
       "         1.32509732e-01],\n",
       "       [-9.00681170e-01, -1.28296331e+00, -4.30827696e-01,\n",
       "        -1.30754636e-01],\n",
       "       [-1.73673948e-01, -5.92373012e-01,  1.94384000e-01,\n",
       "         1.32509732e-01],\n",
       "       [ 5.53333275e-01,  5.58610819e-01,  1.27429511e+00,\n",
       "         1.71209594e+00],\n",
       "       [-5.25060772e-02, -8.22569778e-01,  7.62758269e-01,\n",
       "         9.22302838e-01],\n",
       "       [ 1.52267624e+00, -1.31979479e-01,  1.21745768e+00,\n",
       "         1.18556721e+00],\n",
       "       [ 5.53333275e-01, -3.62176246e-01,  1.04694540e+00,\n",
       "         7.90670654e-01],\n",
       "       [ 7.95669016e-01, -1.31979479e-01,  1.16062026e+00,\n",
       "         1.31719939e+00],\n",
       "       [ 2.12851559e+00, -1.31979479e-01,  1.61531967e+00,\n",
       "         1.18556721e+00],\n",
       "       [-1.14301691e+00, -1.28296331e+00,  4.21733708e-01,\n",
       "         6.59038469e-01],\n",
       "       [ 1.76501198e+00, -3.62176246e-01,  1.44480739e+00,\n",
       "         7.90670654e-01],\n",
       "       [ 1.03800476e+00, -1.28296331e+00,  1.16062026e+00,\n",
       "         7.90670654e-01],\n",
       "       [ 1.64384411e+00,  1.24920112e+00,  1.33113254e+00,\n",
       "         1.71209594e+00],\n",
       "       [ 7.95669016e-01,  3.28414053e-01,  7.62758269e-01,\n",
       "         1.05393502e+00],\n",
       "       [ 6.74501145e-01, -8.22569778e-01,  8.76433123e-01,\n",
       "         9.22302838e-01],\n",
       "       [ 1.15917263e+00, -1.31979479e-01,  9.90107977e-01,\n",
       "         1.18556721e+00],\n",
       "       [-1.73673948e-01, -1.28296331e+00,  7.05920842e-01,\n",
       "         1.05393502e+00],\n",
       "       [-5.25060772e-02, -5.92373012e-01,  7.62758269e-01,\n",
       "         1.58046376e+00],\n",
       "       [ 6.74501145e-01,  3.28414053e-01,  8.76433123e-01,\n",
       "         1.44883158e+00],\n",
       "       [ 7.95669016e-01, -1.31979479e-01,  9.90107977e-01,\n",
       "         7.90670654e-01],\n",
       "       [ 2.24968346e+00,  1.70959465e+00,  1.67215710e+00,\n",
       "         1.31719939e+00],\n",
       "       [ 2.24968346e+00, -1.05276654e+00,  1.78583195e+00,\n",
       "         1.44883158e+00],\n",
       "       [ 1.89829664e-01, -1.97355361e+00,  7.05920842e-01,\n",
       "         3.95774101e-01],\n",
       "       [ 1.28034050e+00,  3.28414053e-01,  1.10378283e+00,\n",
       "         1.44883158e+00],\n",
       "       [-2.94841818e-01, -5.92373012e-01,  6.49083415e-01,\n",
       "         1.05393502e+00],\n",
       "       [ 2.24968346e+00, -5.92373012e-01,  1.67215710e+00,\n",
       "         1.05393502e+00],\n",
       "       [ 5.53333275e-01, -8.22569778e-01,  6.49083415e-01,\n",
       "         7.90670654e-01],\n",
       "       [ 1.03800476e+00,  5.58610819e-01,  1.10378283e+00,\n",
       "         1.18556721e+00],\n",
       "       [ 1.64384411e+00,  3.28414053e-01,  1.27429511e+00,\n",
       "         7.90670654e-01],\n",
       "       [ 4.32165405e-01, -5.92373012e-01,  5.92245988e-01,\n",
       "         7.90670654e-01],\n",
       "       [ 3.10997534e-01, -1.31979479e-01,  6.49083415e-01,\n",
       "         7.90670654e-01],\n",
       "       [ 6.74501145e-01, -5.92373012e-01,  1.04694540e+00,\n",
       "         1.18556721e+00],\n",
       "       [ 1.64384411e+00, -1.31979479e-01,  1.16062026e+00,\n",
       "         5.27406285e-01],\n",
       "       [ 1.88617985e+00, -5.92373012e-01,  1.33113254e+00,\n",
       "         9.22302838e-01],\n",
       "       [ 2.49201920e+00,  1.70959465e+00,  1.50164482e+00,\n",
       "         1.05393502e+00],\n",
       "       [ 6.74501145e-01, -5.92373012e-01,  1.04694540e+00,\n",
       "         1.31719939e+00],\n",
       "       [ 5.53333275e-01, -5.92373012e-01,  7.62758269e-01,\n",
       "         3.95774101e-01],\n",
       "       [ 3.10997534e-01, -1.05276654e+00,  1.04694540e+00,\n",
       "         2.64141916e-01],\n",
       "       [ 2.24968346e+00, -1.31979479e-01,  1.33113254e+00,\n",
       "         1.44883158e+00],\n",
       "       [ 5.53333275e-01,  7.88807586e-01,  1.04694540e+00,\n",
       "         1.58046376e+00],\n",
       "       [ 6.74501145e-01,  9.82172869e-02,  9.90107977e-01,\n",
       "         7.90670654e-01],\n",
       "       [ 1.89829664e-01, -1.31979479e-01,  5.92245988e-01,\n",
       "         7.90670654e-01],\n",
       "       [ 1.28034050e+00,  9.82172869e-02,  9.33270550e-01,\n",
       "         1.18556721e+00],\n",
       "       [ 1.03800476e+00,  9.82172869e-02,  1.04694540e+00,\n",
       "         1.58046376e+00],\n",
       "       [ 1.28034050e+00,  9.82172869e-02,  7.62758269e-01,\n",
       "         1.44883158e+00],\n",
       "       [-5.25060772e-02, -8.22569778e-01,  7.62758269e-01,\n",
       "         9.22302838e-01],\n",
       "       [ 1.15917263e+00,  3.28414053e-01,  1.21745768e+00,\n",
       "         1.44883158e+00],\n",
       "       [ 1.03800476e+00,  5.58610819e-01,  1.10378283e+00,\n",
       "         1.71209594e+00],\n",
       "       [ 1.03800476e+00, -1.31979479e-01,  8.19595696e-01,\n",
       "         1.44883158e+00],\n",
       "       [ 5.53333275e-01, -1.28296331e+00,  7.05920842e-01,\n",
       "         9.22302838e-01],\n",
       "       [ 7.95669016e-01, -1.31979479e-01,  8.19595696e-01,\n",
       "         1.05393502e+00],\n",
       "       [ 4.32165405e-01,  7.88807586e-01,  9.33270550e-01,\n",
       "         1.44883158e+00],\n",
       "       [ 6.86617933e-02, -1.31979479e-01,  7.62758269e-01,\n",
       "         7.90670654e-01]])"
      ]
     },
     "execution_count": 47,
     "metadata": {},
     "output_type": "execute_result"
    }
   ],
   "source": [
    "X_pre=num_pipeline.fit_transform(x)\n",
    "X_pre"
   ]
  },
  {
   "cell_type": "code",
   "execution_count": 48,
   "metadata": {},
   "outputs": [
    {
     "data": {
      "text/plain": [
       "array(['sepal_length', 'sepal_width', 'petal_length', 'petal_width'],\n",
       "      dtype=object)"
      ]
     },
     "execution_count": 48,
     "metadata": {},
     "output_type": "execute_result"
    }
   ],
   "source": [
    "cols=num_pipeline.get_feature_names_out()\n",
    "cols"
   ]
  },
  {
   "cell_type": "code",
   "execution_count": 49,
   "metadata": {},
   "outputs": [
    {
     "data": {
      "text/html": [
       "<div>\n",
       "<style scoped>\n",
       "    .dataframe tbody tr th:only-of-type {\n",
       "        vertical-align: middle;\n",
       "    }\n",
       "\n",
       "    .dataframe tbody tr th {\n",
       "        vertical-align: top;\n",
       "    }\n",
       "\n",
       "    .dataframe thead th {\n",
       "        text-align: right;\n",
       "    }\n",
       "</style>\n",
       "<table border=\"1\" class=\"dataframe\">\n",
       "  <thead>\n",
       "    <tr style=\"text-align: right;\">\n",
       "      <th></th>\n",
       "      <th>sepal_length</th>\n",
       "      <th>sepal_width</th>\n",
       "      <th>petal_length</th>\n",
       "      <th>petal_width</th>\n",
       "    </tr>\n",
       "  </thead>\n",
       "  <tbody>\n",
       "    <tr>\n",
       "      <th>0</th>\n",
       "      <td>-0.900681</td>\n",
       "      <td>1.019004</td>\n",
       "      <td>-1.340227</td>\n",
       "      <td>-1.315444</td>\n",
       "    </tr>\n",
       "    <tr>\n",
       "      <th>1</th>\n",
       "      <td>-1.143017</td>\n",
       "      <td>-0.131979</td>\n",
       "      <td>-1.340227</td>\n",
       "      <td>-1.315444</td>\n",
       "    </tr>\n",
       "    <tr>\n",
       "      <th>2</th>\n",
       "      <td>-1.385353</td>\n",
       "      <td>0.328414</td>\n",
       "      <td>-1.397064</td>\n",
       "      <td>-1.315444</td>\n",
       "    </tr>\n",
       "    <tr>\n",
       "      <th>3</th>\n",
       "      <td>-1.506521</td>\n",
       "      <td>0.098217</td>\n",
       "      <td>-1.283389</td>\n",
       "      <td>-1.315444</td>\n",
       "    </tr>\n",
       "    <tr>\n",
       "      <th>4</th>\n",
       "      <td>-1.021849</td>\n",
       "      <td>1.249201</td>\n",
       "      <td>-1.340227</td>\n",
       "      <td>-1.315444</td>\n",
       "    </tr>\n",
       "  </tbody>\n",
       "</table>\n",
       "</div>"
      ],
      "text/plain": [
       "   sepal_length  sepal_width  petal_length  petal_width\n",
       "0     -0.900681     1.019004     -1.340227    -1.315444\n",
       "1     -1.143017    -0.131979     -1.340227    -1.315444\n",
       "2     -1.385353     0.328414     -1.397064    -1.315444\n",
       "3     -1.506521     0.098217     -1.283389    -1.315444\n",
       "4     -1.021849     1.249201     -1.340227    -1.315444"
      ]
     },
     "execution_count": 49,
     "metadata": {},
     "output_type": "execute_result"
    }
   ],
   "source": [
    "X_pre=pd.DataFrame(X_pre,columns=cols)\n",
    "X_pre.head()"
   ]
  },
  {
   "cell_type": "markdown",
   "metadata": {},
   "source": [
    "### Train Test Split"
   ]
  },
  {
   "cell_type": "code",
   "execution_count": 51,
   "metadata": {},
   "outputs": [],
   "source": [
    "from sklearn.model_selection import train_test_split\n",
    "xtrain,xtest,ytrain,ytest=train_test_split(X_pre,Y_encoded,test_size=0.2,random_state=42)"
   ]
  },
  {
   "cell_type": "code",
   "execution_count": 52,
   "metadata": {},
   "outputs": [
    {
     "data": {
      "text/html": [
       "<div>\n",
       "<style scoped>\n",
       "    .dataframe tbody tr th:only-of-type {\n",
       "        vertical-align: middle;\n",
       "    }\n",
       "\n",
       "    .dataframe tbody tr th {\n",
       "        vertical-align: top;\n",
       "    }\n",
       "\n",
       "    .dataframe thead th {\n",
       "        text-align: right;\n",
       "    }\n",
       "</style>\n",
       "<table border=\"1\" class=\"dataframe\">\n",
       "  <thead>\n",
       "    <tr style=\"text-align: right;\">\n",
       "      <th></th>\n",
       "      <th>sepal_length</th>\n",
       "      <th>sepal_width</th>\n",
       "      <th>petal_length</th>\n",
       "      <th>petal_width</th>\n",
       "    </tr>\n",
       "  </thead>\n",
       "  <tbody>\n",
       "    <tr>\n",
       "      <th>22</th>\n",
       "      <td>-1.506521</td>\n",
       "      <td>1.249201</td>\n",
       "      <td>-1.567576</td>\n",
       "      <td>-1.315444</td>\n",
       "    </tr>\n",
       "    <tr>\n",
       "      <th>15</th>\n",
       "      <td>-0.173674</td>\n",
       "      <td>3.090775</td>\n",
       "      <td>-1.283389</td>\n",
       "      <td>-1.052180</td>\n",
       "    </tr>\n",
       "    <tr>\n",
       "      <th>65</th>\n",
       "      <td>1.038005</td>\n",
       "      <td>0.098217</td>\n",
       "      <td>0.364896</td>\n",
       "      <td>0.264142</td>\n",
       "    </tr>\n",
       "    <tr>\n",
       "      <th>11</th>\n",
       "      <td>-1.264185</td>\n",
       "      <td>0.788808</td>\n",
       "      <td>-1.226552</td>\n",
       "      <td>-1.315444</td>\n",
       "    </tr>\n",
       "    <tr>\n",
       "      <th>42</th>\n",
       "      <td>-1.748856</td>\n",
       "      <td>0.328414</td>\n",
       "      <td>-1.397064</td>\n",
       "      <td>-1.315444</td>\n",
       "    </tr>\n",
       "  </tbody>\n",
       "</table>\n",
       "</div>"
      ],
      "text/plain": [
       "    sepal_length  sepal_width  petal_length  petal_width\n",
       "22     -1.506521     1.249201     -1.567576    -1.315444\n",
       "15     -0.173674     3.090775     -1.283389    -1.052180\n",
       "65      1.038005     0.098217      0.364896     0.264142\n",
       "11     -1.264185     0.788808     -1.226552    -1.315444\n",
       "42     -1.748856     0.328414     -1.397064    -1.315444"
      ]
     },
     "execution_count": 52,
     "metadata": {},
     "output_type": "execute_result"
    }
   ],
   "source": [
    "xtrain.head()"
   ]
  },
  {
   "cell_type": "code",
   "execution_count": 53,
   "metadata": {},
   "outputs": [
    {
     "data": {
      "text/html": [
       "<div>\n",
       "<style scoped>\n",
       "    .dataframe tbody tr th:only-of-type {\n",
       "        vertical-align: middle;\n",
       "    }\n",
       "\n",
       "    .dataframe tbody tr th {\n",
       "        vertical-align: top;\n",
       "    }\n",
       "\n",
       "    .dataframe thead th {\n",
       "        text-align: right;\n",
       "    }\n",
       "</style>\n",
       "<table border=\"1\" class=\"dataframe\">\n",
       "  <thead>\n",
       "    <tr style=\"text-align: right;\">\n",
       "      <th></th>\n",
       "      <th>species_setosa</th>\n",
       "      <th>species_versicolor</th>\n",
       "      <th>species_virginica</th>\n",
       "    </tr>\n",
       "  </thead>\n",
       "  <tbody>\n",
       "    <tr>\n",
       "      <th>22</th>\n",
       "      <td>True</td>\n",
       "      <td>False</td>\n",
       "      <td>False</td>\n",
       "    </tr>\n",
       "    <tr>\n",
       "      <th>15</th>\n",
       "      <td>True</td>\n",
       "      <td>False</td>\n",
       "      <td>False</td>\n",
       "    </tr>\n",
       "    <tr>\n",
       "      <th>65</th>\n",
       "      <td>False</td>\n",
       "      <td>True</td>\n",
       "      <td>False</td>\n",
       "    </tr>\n",
       "    <tr>\n",
       "      <th>11</th>\n",
       "      <td>True</td>\n",
       "      <td>False</td>\n",
       "      <td>False</td>\n",
       "    </tr>\n",
       "    <tr>\n",
       "      <th>42</th>\n",
       "      <td>True</td>\n",
       "      <td>False</td>\n",
       "      <td>False</td>\n",
       "    </tr>\n",
       "  </tbody>\n",
       "</table>\n",
       "</div>"
      ],
      "text/plain": [
       "    species_setosa  species_versicolor  species_virginica\n",
       "22            True               False              False\n",
       "15            True               False              False\n",
       "65           False                True              False\n",
       "11            True               False              False\n",
       "42            True               False              False"
      ]
     },
     "execution_count": 53,
     "metadata": {},
     "output_type": "execute_result"
    }
   ],
   "source": [
    "ytrain[0:5]"
   ]
  },
  {
   "cell_type": "code",
   "execution_count": 57,
   "metadata": {},
   "outputs": [
    {
     "data": {
      "text/plain": [
       "(120, 3)"
      ]
     },
     "execution_count": 57,
     "metadata": {},
     "output_type": "execute_result"
    }
   ],
   "source": [
    "ytrain.shape"
   ]
  },
  {
   "cell_type": "code",
   "execution_count": 58,
   "metadata": {},
   "outputs": [
    {
     "data": {
      "text/plain": [
       "(120, 4)"
      ]
     },
     "execution_count": 58,
     "metadata": {},
     "output_type": "execute_result"
    }
   ],
   "source": [
    "xtrain.shape"
   ]
  },
  {
   "cell_type": "markdown",
   "metadata": {},
   "source": [
    "### Start buildinng the keras model"
   ]
  },
  {
   "cell_type": "code",
   "execution_count": 59,
   "metadata": {},
   "outputs": [],
   "source": [
    "from keras.models import Sequential\n",
    "from keras.layers import Dense,Dropout\n",
    "from keras.callbacks import EarlyStopping"
   ]
  },
  {
   "cell_type": "code",
   "execution_count": 60,
   "metadata": {},
   "outputs": [],
   "source": [
    "model=Sequential()\n",
    "\n",
    "# hidden layer 1 with input dims\n",
    "model.add(Dense(64,activation=\"relu\",input_dim=xtrain.shape[1]))\n",
    "#dropout layer1\n",
    "model.add(Dropout(0.3))\n",
    "\n",
    "# hidden layer 2\n",
    "model.add(Dense(32,activation=\"relu\"))\n",
    "#dropout layer2\n",
    "model.add(Dropout(0.2))\n",
    "\n",
    "# output layer contains number of classes as output\n",
    "model.add(Dense(3,activation=\"softmax\"))"
   ]
  },
  {
   "cell_type": "markdown",
   "metadata": {},
   "source": [
    "### Compile the model"
   ]
  },
  {
   "cell_type": "code",
   "execution_count": 61,
   "metadata": {},
   "outputs": [],
   "source": [
    "model.compile(optimizer=\"adam\",loss=\"categorical_crossentropy\",metrics=[\"accuracy\",\"AUC\"])"
   ]
  },
  {
   "cell_type": "markdown",
   "metadata": {},
   "source": [
    "### callback"
   ]
  },
  {
   "cell_type": "code",
   "execution_count": 62,
   "metadata": {},
   "outputs": [],
   "source": [
    "callback=EarlyStopping(monitor=\"val_loss\",patience=10)"
   ]
  },
  {
   "cell_type": "markdown",
   "metadata": {},
   "source": [
    "### fitting Model"
   ]
  },
  {
   "cell_type": "code",
   "execution_count": 63,
   "metadata": {},
   "outputs": [
    {
     "name": "stdout",
     "output_type": "stream",
     "text": [
      "Epoch 1/200\n",
      "3/3 [==============================] - 1s 118ms/step - loss: 1.1595 - accuracy: 0.3125 - auc: 0.4567 - val_loss: 1.1159 - val_accuracy: 0.3333 - val_auc: 0.4553\n",
      "Epoch 2/200\n",
      "3/3 [==============================] - 0s 15ms/step - loss: 1.1097 - accuracy: 0.3646 - auc: 0.5269 - val_loss: 1.0588 - val_accuracy: 0.4583 - val_auc: 0.6879\n",
      "Epoch 3/200\n",
      "3/3 [==============================] - 0s 15ms/step - loss: 1.0590 - accuracy: 0.4062 - auc: 0.6085 - val_loss: 1.0031 - val_accuracy: 0.7500 - val_auc: 0.8780\n",
      "Epoch 4/200\n",
      "3/3 [==============================] - 0s 14ms/step - loss: 0.9842 - accuracy: 0.5625 - auc: 0.7565 - val_loss: 0.9524 - val_accuracy: 0.9167 - val_auc: 0.9466\n",
      "Epoch 5/200\n",
      "3/3 [==============================] - 0s 15ms/step - loss: 0.9484 - accuracy: 0.6667 - auc: 0.8099 - val_loss: 0.9035 - val_accuracy: 0.8750 - val_auc: 0.9679\n",
      "Epoch 6/200\n",
      "3/3 [==============================] - 0s 15ms/step - loss: 0.8893 - accuracy: 0.6979 - auc: 0.8666 - val_loss: 0.8565 - val_accuracy: 0.8750 - val_auc: 0.9787\n",
      "Epoch 7/200\n",
      "3/3 [==============================] - 0s 15ms/step - loss: 0.8270 - accuracy: 0.6979 - auc: 0.9025 - val_loss: 0.8139 - val_accuracy: 0.9167 - val_auc: 0.9770\n",
      "Epoch 8/200\n",
      "3/3 [==============================] - 0s 14ms/step - loss: 0.8198 - accuracy: 0.6667 - auc: 0.8901 - val_loss: 0.7723 - val_accuracy: 0.9167 - val_auc: 0.9770\n",
      "Epoch 9/200\n",
      "3/3 [==============================] - 0s 16ms/step - loss: 0.7501 - accuracy: 0.7396 - auc: 0.9239 - val_loss: 0.7328 - val_accuracy: 0.8750 - val_auc: 0.9770\n",
      "Epoch 10/200\n",
      "3/3 [==============================] - 0s 14ms/step - loss: 0.6949 - accuracy: 0.8021 - auc: 0.9541 - val_loss: 0.6943 - val_accuracy: 0.8750 - val_auc: 0.9770\n",
      "Epoch 11/200\n",
      "3/3 [==============================] - 0s 16ms/step - loss: 0.6989 - accuracy: 0.7812 - auc: 0.9355 - val_loss: 0.6581 - val_accuracy: 0.8750 - val_auc: 0.9761\n",
      "Epoch 12/200\n",
      "3/3 [==============================] - 0s 14ms/step - loss: 0.6756 - accuracy: 0.7500 - auc: 0.9234 - val_loss: 0.6245 - val_accuracy: 0.8750 - val_auc: 0.9766\n",
      "Epoch 13/200\n",
      "3/3 [==============================] - 0s 14ms/step - loss: 0.6183 - accuracy: 0.8125 - auc: 0.9503 - val_loss: 0.5934 - val_accuracy: 0.8750 - val_auc: 0.9770\n",
      "Epoch 14/200\n",
      "3/3 [==============================] - 0s 14ms/step - loss: 0.6039 - accuracy: 0.8125 - auc: 0.9498 - val_loss: 0.5653 - val_accuracy: 0.8750 - val_auc: 0.9774\n",
      "Epoch 15/200\n",
      "3/3 [==============================] - 0s 14ms/step - loss: 0.5721 - accuracy: 0.7604 - auc: 0.9440 - val_loss: 0.5392 - val_accuracy: 0.8750 - val_auc: 0.9783\n",
      "Epoch 16/200\n",
      "3/3 [==============================] - 0s 14ms/step - loss: 0.5724 - accuracy: 0.7917 - auc: 0.9449 - val_loss: 0.5173 - val_accuracy: 0.8750 - val_auc: 0.9792\n",
      "Epoch 17/200\n",
      "3/3 [==============================] - 0s 18ms/step - loss: 0.5368 - accuracy: 0.7917 - auc: 0.9508 - val_loss: 0.4969 - val_accuracy: 0.8750 - val_auc: 0.9792\n",
      "Epoch 18/200\n",
      "3/3 [==============================] - 0s 16ms/step - loss: 0.4903 - accuracy: 0.8021 - auc: 0.9613 - val_loss: 0.4774 - val_accuracy: 0.8750 - val_auc: 0.9787\n",
      "Epoch 19/200\n",
      "3/3 [==============================] - 0s 15ms/step - loss: 0.4886 - accuracy: 0.7917 - auc: 0.9560 - val_loss: 0.4600 - val_accuracy: 0.8750 - val_auc: 0.9783\n",
      "Epoch 20/200\n",
      "3/3 [==============================] - 0s 14ms/step - loss: 0.4927 - accuracy: 0.7917 - auc: 0.9545 - val_loss: 0.4455 - val_accuracy: 0.8750 - val_auc: 0.9774\n",
      "Epoch 21/200\n",
      "3/3 [==============================] - 0s 16ms/step - loss: 0.4657 - accuracy: 0.8229 - auc: 0.9626 - val_loss: 0.4322 - val_accuracy: 0.8750 - val_auc: 0.9779\n",
      "Epoch 22/200\n",
      "3/3 [==============================] - 0s 13ms/step - loss: 0.4376 - accuracy: 0.8125 - auc: 0.9657 - val_loss: 0.4194 - val_accuracy: 0.8750 - val_auc: 0.9787\n",
      "Epoch 23/200\n",
      "3/3 [==============================] - 0s 13ms/step - loss: 0.4059 - accuracy: 0.8438 - auc: 0.9715 - val_loss: 0.4075 - val_accuracy: 0.8750 - val_auc: 0.9796\n",
      "Epoch 24/200\n",
      "3/3 [==============================] - 0s 14ms/step - loss: 0.4208 - accuracy: 0.8229 - auc: 0.9608 - val_loss: 0.3986 - val_accuracy: 0.8750 - val_auc: 0.9783\n",
      "Epoch 25/200\n",
      "3/3 [==============================] - 0s 14ms/step - loss: 0.4074 - accuracy: 0.8229 - auc: 0.9652 - val_loss: 0.3907 - val_accuracy: 0.8750 - val_auc: 0.9796\n",
      "Epoch 26/200\n",
      "3/3 [==============================] - 0s 14ms/step - loss: 0.4135 - accuracy: 0.7812 - auc: 0.9564 - val_loss: 0.3846 - val_accuracy: 0.8750 - val_auc: 0.9796\n",
      "Epoch 27/200\n",
      "3/3 [==============================] - 0s 14ms/step - loss: 0.4158 - accuracy: 0.7917 - auc: 0.9594 - val_loss: 0.3769 - val_accuracy: 0.8750 - val_auc: 0.9800\n",
      "Epoch 28/200\n",
      "3/3 [==============================] - 0s 14ms/step - loss: 0.3653 - accuracy: 0.8333 - auc: 0.9721 - val_loss: 0.3707 - val_accuracy: 0.9167 - val_auc: 0.9800\n",
      "Epoch 29/200\n",
      "3/3 [==============================] - 0s 13ms/step - loss: 0.3500 - accuracy: 0.8854 - auc: 0.9765 - val_loss: 0.3651 - val_accuracy: 0.9167 - val_auc: 0.9800\n",
      "Epoch 30/200\n",
      "3/3 [==============================] - 0s 14ms/step - loss: 0.3684 - accuracy: 0.8333 - auc: 0.9687 - val_loss: 0.3592 - val_accuracy: 0.9167 - val_auc: 0.9800\n",
      "Epoch 31/200\n",
      "3/3 [==============================] - 0s 13ms/step - loss: 0.3641 - accuracy: 0.8229 - auc: 0.9725 - val_loss: 0.3528 - val_accuracy: 0.9167 - val_auc: 0.9796\n",
      "Epoch 32/200\n",
      "3/3 [==============================] - 0s 14ms/step - loss: 0.3297 - accuracy: 0.9062 - auc: 0.9809 - val_loss: 0.3432 - val_accuracy: 0.9167 - val_auc: 0.9805\n",
      "Epoch 33/200\n",
      "3/3 [==============================] - 0s 13ms/step - loss: 0.3415 - accuracy: 0.8750 - auc: 0.9759 - val_loss: 0.3352 - val_accuracy: 0.9167 - val_auc: 0.9809\n",
      "Epoch 34/200\n",
      "3/3 [==============================] - 0s 14ms/step - loss: 0.3571 - accuracy: 0.8125 - auc: 0.9669 - val_loss: 0.3267 - val_accuracy: 0.9167 - val_auc: 0.9813\n",
      "Epoch 35/200\n",
      "3/3 [==============================] - 0s 13ms/step - loss: 0.3402 - accuracy: 0.8333 - auc: 0.9744 - val_loss: 0.3187 - val_accuracy: 0.9167 - val_auc: 0.9818\n",
      "Epoch 36/200\n",
      "3/3 [==============================] - 0s 14ms/step - loss: 0.3189 - accuracy: 0.8646 - auc: 0.9817 - val_loss: 0.3131 - val_accuracy: 0.9167 - val_auc: 0.9818\n",
      "Epoch 37/200\n",
      "3/3 [==============================] - 0s 14ms/step - loss: 0.3381 - accuracy: 0.8646 - auc: 0.9790 - val_loss: 0.3079 - val_accuracy: 0.9167 - val_auc: 0.9800\n",
      "Epoch 38/200\n",
      "3/3 [==============================] - 0s 15ms/step - loss: 0.3125 - accuracy: 0.8646 - auc: 0.9785 - val_loss: 0.3013 - val_accuracy: 0.9167 - val_auc: 0.9809\n",
      "Epoch 39/200\n",
      "3/3 [==============================] - 0s 15ms/step - loss: 0.3264 - accuracy: 0.8646 - auc: 0.9743 - val_loss: 0.2936 - val_accuracy: 0.9167 - val_auc: 0.9826\n",
      "Epoch 40/200\n",
      "3/3 [==============================] - 0s 16ms/step - loss: 0.2924 - accuracy: 0.8854 - auc: 0.9812 - val_loss: 0.2875 - val_accuracy: 0.9167 - val_auc: 0.9831\n",
      "Epoch 41/200\n",
      "3/3 [==============================] - 0s 17ms/step - loss: 0.2803 - accuracy: 0.8646 - auc: 0.9817 - val_loss: 0.2832 - val_accuracy: 0.9167 - val_auc: 0.9839\n",
      "Epoch 42/200\n",
      "3/3 [==============================] - 0s 14ms/step - loss: 0.2917 - accuracy: 0.8958 - auc: 0.9817 - val_loss: 0.2815 - val_accuracy: 0.9167 - val_auc: 0.9805\n",
      "Epoch 43/200\n",
      "3/3 [==============================] - 0s 14ms/step - loss: 0.2998 - accuracy: 0.8750 - auc: 0.9776 - val_loss: 0.2780 - val_accuracy: 0.9167 - val_auc: 0.9809\n",
      "Epoch 44/200\n",
      "3/3 [==============================] - 0s 13ms/step - loss: 0.2868 - accuracy: 0.8854 - auc: 0.9831 - val_loss: 0.2756 - val_accuracy: 0.9167 - val_auc: 0.9805\n",
      "Epoch 45/200\n",
      "3/3 [==============================] - 0s 14ms/step - loss: 0.2738 - accuracy: 0.8854 - auc: 0.9855 - val_loss: 0.2705 - val_accuracy: 0.9167 - val_auc: 0.9809\n",
      "Epoch 46/200\n",
      "3/3 [==============================] - 0s 14ms/step - loss: 0.2775 - accuracy: 0.9062 - auc: 0.9837 - val_loss: 0.2661 - val_accuracy: 0.9167 - val_auc: 0.9809\n",
      "Epoch 47/200\n",
      "3/3 [==============================] - 0s 23ms/step - loss: 0.2581 - accuracy: 0.9167 - auc: 0.9859 - val_loss: 0.2636 - val_accuracy: 0.9167 - val_auc: 0.9809\n",
      "Epoch 48/200\n",
      "3/3 [==============================] - 0s 14ms/step - loss: 0.2769 - accuracy: 0.9062 - auc: 0.9837 - val_loss: 0.2582 - val_accuracy: 0.9167 - val_auc: 0.9809\n",
      "Epoch 49/200\n",
      "3/3 [==============================] - 0s 15ms/step - loss: 0.2525 - accuracy: 0.8646 - auc: 0.9848 - val_loss: 0.2549 - val_accuracy: 0.9167 - val_auc: 0.9809\n",
      "Epoch 50/200\n",
      "3/3 [==============================] - 0s 16ms/step - loss: 0.2690 - accuracy: 0.9167 - auc: 0.9863 - val_loss: 0.2495 - val_accuracy: 0.9167 - val_auc: 0.9826\n",
      "Epoch 51/200\n",
      "3/3 [==============================] - 0s 17ms/step - loss: 0.2652 - accuracy: 0.9062 - auc: 0.9847 - val_loss: 0.2470 - val_accuracy: 0.9167 - val_auc: 0.9826\n",
      "Epoch 52/200\n",
      "3/3 [==============================] - 0s 15ms/step - loss: 0.2659 - accuracy: 0.8958 - auc: 0.9838 - val_loss: 0.2477 - val_accuracy: 0.9583 - val_auc: 0.9805\n",
      "Epoch 53/200\n",
      "3/3 [==============================] - 0s 16ms/step - loss: 0.2296 - accuracy: 0.9271 - auc: 0.9899 - val_loss: 0.2475 - val_accuracy: 0.9583 - val_auc: 0.9783\n",
      "Epoch 54/200\n",
      "3/3 [==============================] - 0s 14ms/step - loss: 0.2558 - accuracy: 0.9167 - auc: 0.9838 - val_loss: 0.2464 - val_accuracy: 0.9583 - val_auc: 0.9783\n",
      "Epoch 55/200\n",
      "3/3 [==============================] - 0s 14ms/step - loss: 0.2330 - accuracy: 0.9375 - auc: 0.9907 - val_loss: 0.2420 - val_accuracy: 0.9583 - val_auc: 0.9796\n",
      "Epoch 56/200\n",
      "3/3 [==============================] - 0s 14ms/step - loss: 0.2278 - accuracy: 0.9271 - auc: 0.9900 - val_loss: 0.2380 - val_accuracy: 0.9583 - val_auc: 0.9800\n",
      "Epoch 57/200\n",
      "3/3 [==============================] - 0s 13ms/step - loss: 0.2109 - accuracy: 0.9688 - auc: 0.9900 - val_loss: 0.2354 - val_accuracy: 0.9583 - val_auc: 0.9792\n",
      "Epoch 58/200\n",
      "3/3 [==============================] - 0s 14ms/step - loss: 0.2546 - accuracy: 0.9271 - auc: 0.9840 - val_loss: 0.2316 - val_accuracy: 0.9583 - val_auc: 0.9809\n",
      "Epoch 59/200\n",
      "3/3 [==============================] - 0s 14ms/step - loss: 0.2093 - accuracy: 0.9375 - auc: 0.9918 - val_loss: 0.2296 - val_accuracy: 0.9583 - val_auc: 0.9805\n",
      "Epoch 60/200\n",
      "3/3 [==============================] - 0s 14ms/step - loss: 0.2359 - accuracy: 0.9167 - auc: 0.9862 - val_loss: 0.2233 - val_accuracy: 0.9583 - val_auc: 0.9852\n",
      "Epoch 61/200\n",
      "3/3 [==============================] - 0s 15ms/step - loss: 0.2211 - accuracy: 0.9167 - auc: 0.9901 - val_loss: 0.2158 - val_accuracy: 0.9583 - val_auc: 0.9878\n",
      "Epoch 62/200\n",
      "3/3 [==============================] - 0s 14ms/step - loss: 0.1922 - accuracy: 0.9375 - auc: 0.9951 - val_loss: 0.2104 - val_accuracy: 0.9583 - val_auc: 0.9878\n",
      "Epoch 63/200\n",
      "3/3 [==============================] - 0s 14ms/step - loss: 0.2064 - accuracy: 0.9375 - auc: 0.9907 - val_loss: 0.2066 - val_accuracy: 0.9583 - val_auc: 0.9887\n",
      "Epoch 64/200\n",
      "3/3 [==============================] - 0s 13ms/step - loss: 0.1849 - accuracy: 0.9375 - auc: 0.9938 - val_loss: 0.2064 - val_accuracy: 0.9583 - val_auc: 0.9887\n",
      "Epoch 65/200\n",
      "3/3 [==============================] - 0s 15ms/step - loss: 0.2070 - accuracy: 0.9271 - auc: 0.9903 - val_loss: 0.2063 - val_accuracy: 0.9583 - val_auc: 0.9887\n",
      "Epoch 66/200\n",
      "3/3 [==============================] - 0s 17ms/step - loss: 0.1853 - accuracy: 0.9375 - auc: 0.9932 - val_loss: 0.2068 - val_accuracy: 0.9583 - val_auc: 0.9878\n",
      "Epoch 67/200\n",
      "3/3 [==============================] - 0s 16ms/step - loss: 0.1853 - accuracy: 0.9271 - auc: 0.9937 - val_loss: 0.2100 - val_accuracy: 0.9583 - val_auc: 0.9848\n",
      "Epoch 68/200\n",
      "3/3 [==============================] - 0s 16ms/step - loss: 0.1859 - accuracy: 0.9375 - auc: 0.9930 - val_loss: 0.2119 - val_accuracy: 0.9583 - val_auc: 0.9831\n",
      "Epoch 69/200\n",
      "3/3 [==============================] - 0s 15ms/step - loss: 0.1523 - accuracy: 0.9688 - auc: 0.9987 - val_loss: 0.2091 - val_accuracy: 0.9583 - val_auc: 0.9835\n",
      "Epoch 70/200\n",
      "3/3 [==============================] - 0s 13ms/step - loss: 0.1575 - accuracy: 0.9583 - auc: 0.9984 - val_loss: 0.2050 - val_accuracy: 0.9583 - val_auc: 0.9848\n",
      "Epoch 71/200\n",
      "3/3 [==============================] - 0s 14ms/step - loss: 0.1687 - accuracy: 0.9583 - auc: 0.9967 - val_loss: 0.1984 - val_accuracy: 0.9583 - val_auc: 0.9861\n",
      "Epoch 72/200\n",
      "3/3 [==============================] - 0s 14ms/step - loss: 0.1698 - accuracy: 0.9375 - auc: 0.9958 - val_loss: 0.1886 - val_accuracy: 0.9583 - val_auc: 0.9896\n",
      "Epoch 73/200\n",
      "3/3 [==============================] - 0s 14ms/step - loss: 0.2058 - accuracy: 0.9375 - auc: 0.9865 - val_loss: 0.1839 - val_accuracy: 0.9583 - val_auc: 0.9896\n",
      "Epoch 74/200\n",
      "3/3 [==============================] - 0s 13ms/step - loss: 0.1579 - accuracy: 0.9583 - auc: 0.9965 - val_loss: 0.1804 - val_accuracy: 0.9583 - val_auc: 0.9909\n",
      "Epoch 75/200\n",
      "3/3 [==============================] - 0s 19ms/step - loss: 0.1612 - accuracy: 0.9583 - auc: 0.9944 - val_loss: 0.1800 - val_accuracy: 0.9583 - val_auc: 0.9900\n",
      "Epoch 76/200\n",
      "3/3 [==============================] - 0s 17ms/step - loss: 0.1518 - accuracy: 0.9375 - auc: 0.9959 - val_loss: 0.1827 - val_accuracy: 0.9583 - val_auc: 0.9905\n",
      "Epoch 77/200\n",
      "3/3 [==============================] - 0s 20ms/step - loss: 0.1581 - accuracy: 0.9375 - auc: 0.9950 - val_loss: 0.1853 - val_accuracy: 0.9583 - val_auc: 0.9891\n",
      "Epoch 78/200\n",
      "3/3 [==============================] - 0s 18ms/step - loss: 0.1866 - accuracy: 0.9271 - auc: 0.9924 - val_loss: 0.1851 - val_accuracy: 0.9583 - val_auc: 0.9896\n",
      "Epoch 79/200\n",
      "3/3 [==============================] - 0s 14ms/step - loss: 0.1620 - accuracy: 0.9479 - auc: 0.9964 - val_loss: 0.1857 - val_accuracy: 0.9583 - val_auc: 0.9887\n",
      "Epoch 80/200\n",
      "3/3 [==============================] - 0s 14ms/step - loss: 0.1230 - accuracy: 0.9688 - auc: 0.9993 - val_loss: 0.1845 - val_accuracy: 0.9583 - val_auc: 0.9891\n",
      "Epoch 81/200\n",
      "3/3 [==============================] - 0s 14ms/step - loss: 0.1468 - accuracy: 0.9271 - auc: 0.9953 - val_loss: 0.1845 - val_accuracy: 0.9583 - val_auc: 0.9887\n",
      "Epoch 82/200\n",
      "3/3 [==============================] - 0s 16ms/step - loss: 0.1730 - accuracy: 0.9479 - auc: 0.9921 - val_loss: 0.1863 - val_accuracy: 0.9583 - val_auc: 0.9878\n",
      "Epoch 83/200\n",
      "3/3 [==============================] - 0s 14ms/step - loss: 0.2040 - accuracy: 0.9167 - auc: 0.9883 - val_loss: 0.1874 - val_accuracy: 0.9583 - val_auc: 0.9878\n",
      "Epoch 84/200\n",
      "3/3 [==============================] - 0s 14ms/step - loss: 0.1484 - accuracy: 0.9479 - auc: 0.9954 - val_loss: 0.1836 - val_accuracy: 0.9583 - val_auc: 0.9887\n",
      "Epoch 85/200\n",
      "3/3 [==============================] - 0s 14ms/step - loss: 0.1392 - accuracy: 0.9688 - auc: 0.9967 - val_loss: 0.1833 - val_accuracy: 0.9583 - val_auc: 0.9887\n"
     ]
    }
   ],
   "source": [
    "hist=model.fit(xtrain,ytrain,validation_split=0.2,epochs=200,callbacks=[callback])"
   ]
  },
  {
   "cell_type": "code",
   "execution_count": 64,
   "metadata": {},
   "outputs": [
    {
     "data": {
      "text/plain": [
       "<function matplotlib.pyplot.show(close=None, block=None)>"
      ]
     },
     "execution_count": 64,
     "metadata": {},
     "output_type": "execute_result"
    },
    {
     "data": {
      "image/png": "[encoded data removed]",
      "text/plain": [
       "<Figure size 1600x800 with 1 Axes>"
      ]
     },
     "metadata": {},
     "output_type": "display_data"
    }
   ],
   "source": [
    "import matplotlib.pyplot as plt\n",
    "plt.figure(figsize=(16,8))\n",
    "plt.plot(hist.history[\"loss\"],label=\"Train CCE\")\n",
    "plt.plot(hist.history[\"val_loss\"],label=\"Test CCE\")\n",
    "plt.xlabel(\"Epochs\")\n",
    "plt.ylabel(\"Categorical Crossentropy\")\n",
    "plt.title(\"Learning Curve\")\n",
    "plt.legend()\n",
    "plt.show"
   ]
  },
  {
   "cell_type": "markdown",
   "metadata": {},
   "source": [
    "### Evaluation Model in train and test"
   ]
  },
  {
   "cell_type": "code",
   "execution_count": 65,
   "metadata": {},
   "outputs": [
    {
     "name": "stdout",
     "output_type": "stream",
     "text": [
      "4/4 [==============================] - 0s 3ms/step - loss: 0.1251 - accuracy: 0.9583 - auc: 0.9967\n"
     ]
    },
    {
     "data": {
      "text/plain": [
       "[0.12513406574726105, 0.9583333134651184, 0.9966840744018555]"
      ]
     },
     "execution_count": 65,
     "metadata": {},
     "output_type": "execute_result"
    }
   ],
   "source": [
    "model.evaluate(xtrain,ytrain)"
   ]
  },
  {
   "cell_type": "code",
   "execution_count": 66,
   "metadata": {},
   "outputs": [
    {
     "name": "stdout",
     "output_type": "stream",
     "text": [
      "1/1 [==============================] - 0s 23ms/step - loss: 0.0805 - accuracy: 1.0000 - auc: 1.0000\n"
     ]
    },
    {
     "data": {
      "text/plain": [
       "[0.08046094328165054, 1.0, 1.0]"
      ]
     },
     "execution_count": 66,
     "metadata": {},
     "output_type": "execute_result"
    }
   ],
   "source": [
    "model.evaluate(xtest, ytest)"
   ]
  },
  {
   "cell_type": "code",
   "execution_count": null,
   "metadata": {},
   "outputs": [],
   "source": []
  }
 ],
 "metadata": {
  "kernelspec": {
   "display_name": "venv",
   "language": "python",
   "name": "python3"
  },
  "language_info": {
   "codemirror_mode": {
    "name": "ipython",
    "version": 3
   },
   "file_extension": ".py",
   "mimetype": "text/x-python",
   "name": "python",
   "nbconvert_exporter": "python",
   "pygments_lexer": "ipython3",
   "version": "3.11.6"
  }
 },
 "nbformat": 4,
 "nbformat_minor": 2
}
